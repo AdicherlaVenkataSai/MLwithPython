{
  "nbformat": 4,
  "nbformat_minor": 0,
  "metadata": {
    "colab": {
      "name": "CNN tutorial.ipynb",
      "provenance": [],
      "authorship_tag": "ABX9TyMhZSWcABnWZuZWUe8Drwi9",
      "include_colab_link": true
    },
    "kernelspec": {
      "name": "python3",
      "display_name": "Python 3"
    },
    "accelerator": "GPU"
  },
  "cells": [
    {
      "cell_type": "markdown",
      "metadata": {
        "id": "view-in-github",
        "colab_type": "text"
      },
      "source": [
        "<a href=\"https://colab.research.google.com/github/AdicherlaVenkataSai/Neural-Networks/blob/master/CNN_tutorial.ipynb\" target=\"_parent\"><img src=\"https://colab.research.google.com/assets/colab-badge.svg\" alt=\"Open In Colab\"/></a>"
      ]
    },
    {
      "cell_type": "markdown",
      "metadata": {
        "id": "5IKMHKLMm8Et",
        "colab_type": "text"
      },
      "source": [
        "# CNN - deep learnig basics with python, tf, keras"
      ]
    },
    {
      "cell_type": "markdown",
      "metadata": {
        "id": "eBz7DnZHm3Pw",
        "colab_type": "text"
      },
      "source": [
        "CNN - https://ujjwalkarn.me/2016/08/11/intuitive-explanation-convnets/\n",
        "\n",
        "Into Neural Network - https://ujjwalkarn.me/2016/08/09/quick-intro-neural-networks/\n",
        "\n",
        "Bias - https://stackoverflow.com/questions/2480650/what-is-the-role-of-the-bias-in-neural-networks\n",
        "\n",
        "Backpropagation - http://home.agh.edu.pl/~vlsi/AI/backp_t_en/backprop.html\n",
        "\n",
        "CNN(mathematical expl) -https://cs231n.github.io/convolutional-networks/\n",
        "         https://andrew.gibiansky.com/blog/machine-learning/convolutional-neural-networks/\n",
        "\n",
        "python numpy tut -https://cs231n.github.io/python-numpy-tutorial/"
      ]
    },
    {
      "cell_type": "code",
      "metadata": {
        "id": "OicPeFmqmObC",
        "colab_type": "code",
        "outputId": "597af154-30c9-4835-e11f-c1435be79fec",
        "colab": {
          "base_uri": "https://localhost:8080/",
          "height": 34
        }
      },
      "source": [
        "#importing keras \n",
        "import keras"
      ],
      "execution_count": 0,
      "outputs": [
        {
          "output_type": "stream",
          "text": [
            "Using TensorFlow backend.\n"
          ],
          "name": "stderr"
        }
      ]
    },
    {
      "cell_type": "code",
      "metadata": {
        "id": "XBAI99RQq60Y",
        "colab_type": "code",
        "colab": {}
      },
      "source": [
        "#importing mnist dataset from keras\n",
        "mnist = keras.datasets.mnist"
      ],
      "execution_count": 0,
      "outputs": []
    },
    {
      "cell_type": "code",
      "metadata": {
        "id": "Bj6MLJ38rLl6",
        "colab_type": "code",
        "outputId": "5b8bdad7-5d7a-48e3-e047-3c3ef51d8a35",
        "colab": {
          "base_uri": "https://localhost:8080/",
          "height": 51
        }
      },
      "source": [
        "#loading the data\n",
        "(x_train, y_train), (x_test, y_test) = mnist.load_data()"
      ],
      "execution_count": 0,
      "outputs": [
        {
          "output_type": "stream",
          "text": [
            "Downloading data from https://s3.amazonaws.com/img-datasets/mnist.npz\n",
            "11493376/11490434 [==============================] - 1s 0us/step\n"
          ],
          "name": "stdout"
        }
      ]
    },
    {
      "cell_type": "code",
      "metadata": {
        "id": "M2jGeHIZrUzJ",
        "colab_type": "code",
        "outputId": "54146934-f742-4ac0-a326-4fa01adb0794",
        "colab": {
          "base_uri": "https://localhost:8080/",
          "height": 282
        }
      },
      "source": [
        "#importing matplotlib to plot the image\n",
        "import matplotlib.pyplot as plt\n",
        "plt.imshow(x_train[0])\n",
        "plt.show()\n",
        "print(y_train[0])"
      ],
      "execution_count": 0,
      "outputs": [
        {
          "output_type": "display_data",
          "data": {
            "image/png": "[encoded data removed]",
            "text/plain": [
              "<Figure size 432x288 with 1 Axes>"
            ]
          },
          "metadata": {
            "tags": [],
            "needs_background": "light"
          }
        },
        {
          "output_type": "stream",
          "text": [
            "5\n"
          ],
          "name": "stdout"
        }
      ]
    },
    {
      "cell_type": "code",
      "metadata": {
        "id": "Sajb9iVLruZL",
        "colab_type": "code",
        "colab": {}
      },
      "source": [
        "#reshaping the x_train\n",
        "x_train = x_train.reshape(x_train.shape[0],  28,28,1)\n",
        "x_test = x_test.reshape(x_test.shape[0],  28,28,1)\n",
        "\n",
        "\n",
        "input_size = (28,28,1)\n",
        "\n",
        "#normalizing the dataset by scaling\n",
        "x_train = x_train.astype('float32')\n",
        "x_train /= 255\n",
        "\n",
        "x_test = x_test.astype('float32')\n",
        "x_test /= 255"
      ],
      "execution_count": 0,
      "outputs": []
    },
    {
      "cell_type": "code",
      "metadata": {
        "id": "uSprG2L9s3qu",
        "colab_type": "code",
        "outputId": "c1be0a29-360e-47d3-cdb9-41a3ec04667a",
        "colab": {
          "base_uri": "https://localhost:8080/",
          "height": 51
        }
      },
      "source": [
        "#one hot encoding: categorical to numeric\n",
        "print(y_train[0])\n",
        "\n",
        "y_train = keras.utils.to_categorical(y_train, 10)\n",
        "y_test = keras.utils.to_categorical(y_test, 10)\n",
        "\n",
        "print(y_train[0])\n",
        "#only the position is stuffed with 1(0 to 9)\n"
      ],
      "execution_count": 0,
      "outputs": [
        {
          "output_type": "stream",
          "text": [
            "5\n",
            "[0. 0. 0. 0. 0. 1. 0. 0. 0. 0.]\n"
          ],
          "name": "stdout"
        }
      ]
    },
    {
      "cell_type": "code",
      "metadata": {
        "id": "sEIvAKVhvsdN",
        "colab_type": "code",
        "colab": {}
      },
      "source": [
        "#building model\n",
        "model = keras.models.Sequential()\n",
        "\n",
        "model.add(keras.layers.Conv2D(32, kernel_size=(3,3), activation='relu', input_shape = input_size))\n",
        "model.add(keras.layers.Conv2D(64, (3,3), activation='relu'))\n",
        "model.add(keras.layers.MaxPool2D(pool_size= (2,2)))\n",
        "model.add(keras.layers.Dropout(0.25))\n",
        "#drop out layer: so many layers take more computations, so we randomly select\n",
        "model.add(keras.layers.Flatten())\n",
        "#flatten the image\n",
        "model.add(keras.layers.Dense(128, activation='relu'))\n",
        "model.add(keras.layers.Dropout(0.5))\n",
        "model.add(keras.layers.Dense(10, activation='softmax'))\n"
      ],
      "execution_count": 0,
      "outputs": []
    },
    {
      "cell_type": "code",
      "metadata": {
        "id": "C6wiv378x8bH",
        "colab_type": "code",
        "outputId": "fe7f0b77-7c49-4af5-d613-960240078b70",
        "colab": {
          "base_uri": "https://localhost:8080/",
          "height": 731
        }
      },
      "source": [
        "model.compile(loss = keras.losses.categorical_crossentropy, optimizer= keras.optimizers.adadelta(), metrics = ['accuracy'])\n",
        "model.fit(x_train, y_train, batch_size =128, epochs = 20, validation_data=(x_test, y_test))"
      ],
      "execution_count": 0,
      "outputs": [
        {
          "output_type": "stream",
          "text": [
            "Train on 60000 samples, validate on 10000 samples\n",
            "Epoch 1/20\n",
            "60000/60000 [==============================] - 10s 160us/step - loss: 0.2538 - accuracy: 0.9209 - val_loss: 0.0575 - val_accuracy: 0.9808\n",
            "Epoch 2/20\n",
            "60000/60000 [==============================] - 3s 55us/step - loss: 0.0878 - accuracy: 0.9733 - val_loss: 0.0379 - val_accuracy: 0.9876\n",
            "Epoch 3/20\n",
            "60000/60000 [==============================] - 3s 55us/step - loss: 0.0650 - accuracy: 0.9806 - val_loss: 0.0368 - val_accuracy: 0.9878\n",
            "Epoch 4/20\n",
            "60000/60000 [==============================] - 3s 55us/step - loss: 0.0525 - accuracy: 0.9836 - val_loss: 0.0357 - val_accuracy: 0.9877\n",
            "Epoch 5/20\n",
            "60000/60000 [==============================] - 3s 55us/step - loss: 0.0467 - accuracy: 0.9864 - val_loss: 0.0305 - val_accuracy: 0.9896\n",
            "Epoch 6/20\n",
            "60000/60000 [==============================] - 3s 55us/step - loss: 0.0406 - accuracy: 0.9872 - val_loss: 0.0315 - val_accuracy: 0.9895\n",
            "Epoch 7/20\n",
            "60000/60000 [==============================] - 3s 55us/step - loss: 0.0366 - accuracy: 0.9888 - val_loss: 0.0283 - val_accuracy: 0.9911\n",
            "Epoch 8/20\n",
            "60000/60000 [==============================] - 3s 56us/step - loss: 0.0336 - accuracy: 0.9896 - val_loss: 0.0317 - val_accuracy: 0.9895\n",
            "Epoch 9/20\n",
            "60000/60000 [==============================] - 3s 55us/step - loss: 0.0305 - accuracy: 0.9908 - val_loss: 0.0275 - val_accuracy: 0.9916\n",
            "Epoch 10/20\n",
            "60000/60000 [==============================] - 3s 55us/step - loss: 0.0292 - accuracy: 0.9912 - val_loss: 0.0280 - val_accuracy: 0.9918\n",
            "Epoch 11/20\n",
            "60000/60000 [==============================] - 3s 55us/step - loss: 0.0265 - accuracy: 0.9917 - val_loss: 0.0300 - val_accuracy: 0.9907\n",
            "Epoch 12/20\n",
            "60000/60000 [==============================] - 3s 55us/step - loss: 0.0255 - accuracy: 0.9923 - val_loss: 0.0276 - val_accuracy: 0.9923\n",
            "Epoch 13/20\n",
            "60000/60000 [==============================] - 3s 55us/step - loss: 0.0236 - accuracy: 0.9924 - val_loss: 0.0284 - val_accuracy: 0.9916\n",
            "Epoch 14/20\n",
            "60000/60000 [==============================] - 3s 55us/step - loss: 0.0230 - accuracy: 0.9930 - val_loss: 0.0296 - val_accuracy: 0.9918\n",
            "Epoch 15/20\n",
            "60000/60000 [==============================] - 3s 55us/step - loss: 0.0225 - accuracy: 0.9927 - val_loss: 0.0297 - val_accuracy: 0.9917\n",
            "Epoch 16/20\n",
            "60000/60000 [==============================] - 3s 55us/step - loss: 0.0205 - accuracy: 0.9937 - val_loss: 0.0273 - val_accuracy: 0.9921\n",
            "Epoch 17/20\n",
            "60000/60000 [==============================] - 3s 55us/step - loss: 0.0217 - accuracy: 0.9930 - val_loss: 0.0267 - val_accuracy: 0.9917\n",
            "Epoch 18/20\n",
            "60000/60000 [==============================] - 3s 56us/step - loss: 0.0186 - accuracy: 0.9941 - val_loss: 0.0292 - val_accuracy: 0.9913\n",
            "Epoch 19/20\n",
            "60000/60000 [==============================] - 3s 55us/step - loss: 0.0195 - accuracy: 0.9939 - val_loss: 0.0317 - val_accuracy: 0.9912\n",
            "Epoch 20/20\n",
            "60000/60000 [==============================] - 3s 55us/step - loss: 0.0177 - accuracy: 0.9947 - val_loss: 0.0305 - val_accuracy: 0.9915\n"
          ],
          "name": "stdout"
        },
        {
          "output_type": "execute_result",
          "data": {
            "text/plain": [
              "<keras.callbacks.callbacks.History at 0x7f665011ecf8>"
            ]
          },
          "metadata": {
            "tags": []
          },
          "execution_count": 8
        }
      ]
    },
    {
      "cell_type": "code",
      "metadata": {
        "id": "EchmJcczykrV",
        "colab_type": "code",
        "outputId": "f37c635b-5308-44ae-9762-0eacd066ab14",
        "colab": {
          "base_uri": "https://localhost:8080/",
          "height": 51
        }
      },
      "source": [
        "print(model.evaluate(x_test, y_test))"
      ],
      "execution_count": 0,
      "outputs": [
        {
          "output_type": "stream",
          "text": [
            "10000/10000 [==============================] - 1s 64us/step\n",
            "[0.03051569730680004, 0.9915000200271606]\n"
          ],
          "name": "stdout"
        }
      ]
    }
  ]
}