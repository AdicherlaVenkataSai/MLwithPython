{
  "nbformat": 4,
  "nbformat_minor": 0,
  "metadata": {
    "colab": {
      "name": "Deeplearning based channnel estimation.ipynb",
      "provenance": [],
      "authorship_tag": "ABX9TyP8t+lvaJ79MCXSwtBaj3e5",
      "include_colab_link": true
    },
    "kernelspec": {
      "name": "python3",
      "display_name": "Python 3"
    }
  },
  "cells": [
    {
      "cell_type": "markdown",
      "metadata": {
        "id": "view-in-github",
        "colab_type": "text"
      },
      "source": [
        "<a href=\"https://colab.research.google.com/github/AdicherlaVenkataSai/Neural-Networks-Projects/blob/master/Deeplearning_based_channnel_estimation.ipynb\" target=\"_parent\"><img src=\"https://colab.research.google.com/assets/colab-badge.svg\" alt=\"Open In Colab\"/></a>"
      ]
    },
    {
      "cell_type": "code",
      "metadata": {
        "id": "7n5RuiRc71Jq",
        "colab_type": "code",
        "colab": {}
      },
      "source": [
        "from keras.models import Sequential,  Model\n",
        "from keras.layers import Convolution2D,Input,BatchNormalization,Conv2D,Activation,Lambda,Subtract,Conv2DTranspose, PReLU\n",
        "from keras.regularizers import l2\n",
        "from keras.layers import  Reshape,Dense,Flatten\n",
        "# from keras.layers.advanced_activations import LeakyReLU\n",
        "from keras.callbacks import ModelCheckpoint\n",
        "from keras.optimizers import SGD, Adam\n",
        "from scipy.io import loadmat\n",
        "import keras.backend as K\n",
        "# from keras.layers.advanced_activations import LeakyReLU\n",
        "from keras.callbacks import ModelCheckpoint\n",
        "from keras.optimizers import SGD, Adam\n",
        "import numpy as np\n",
        "import math\n",
        "from scipy import interpolate\n",
        "#from scipy.misc import imresize\n"
      ],
      "execution_count": 0,
      "outputs": []
    },
    {
      "cell_type": "code",
      "metadata": {
        "id": "cdyTGrHW8TFH",
        "colab_type": "code",
        "colab": {}
      },
      "source": [
        "import numpy as np\n",
        "import math\n",
        "#from models import interpolation , SRCNN_train , SRCNN_model, SRCNN_predict , DNCNN_train , DNCNN_model , DNCNN_predict\n",
        "#from scipy.misc import imresize\n",
        "from scipy.io import loadmat\n",
        "import matplotlib.pyplot as plt"
      ],
      "execution_count": 0,
      "outputs": []
    },
    {
      "cell_type": "code",
      "metadata": {
        "id": "NOMp2Bq08q3c",
        "colab_type": "code",
        "colab": {}
      },
      "source": [
        "def psnr(target, ref):\n",
        "    # assume RGB image\n",
        "    target_data = np.array(target, dtype=float)\n",
        "    ref_data = np.array(ref, dtype=float)\n",
        "\n",
        "    diff = ref_data - target_data\n",
        "    diff = diff.flatten('C')\n",
        "\n",
        "    rmse = math.sqrt(np.mean(diff ** 2.))\n",
        "\n",
        "    return 20 * math.log10(255. / rmse)"
      ],
      "execution_count": 0,
      "outputs": []
    },
    {
      "cell_type": "code",
      "metadata": {
        "id": "sNLnJNo78tS-",
        "colab_type": "code",
        "colab": {}
      },
      "source": [
        "def interpolation(noisy , SNR , Number_of_pilot , interp):\n",
        "    noisy_image = np.zeros((40000,72,14,2))\n",
        "\n",
        "    noisy_image[:,:,:,0] = np.real(noisy)\n",
        "    noisy_image[:,:,:,1] = np.imag(noisy)\n",
        "\n",
        "\n",
        "    if (Number_of_pilot == 48):\n",
        "        idx = [14*i for i in range(1, 72,6)]+[4+14*(i) for i in range(4, 72,6)]+[7+14*(i) for i in range(1, 72,6)]+[11+14*(i) for i in range(4, 72,6)]\n",
        "    elif (Number_of_pilot == 16):\n",
        "        idx= [4+14*(i) for i in range(1, 72,9)]+[9+14*(i) for i in range(4, 72,9)]\n",
        "    elif (Number_of_pilot == 24):\n",
        "        idx = [14*i for i in range(1,72,9)]+ [6+14*i for i in range(4,72,9)]+ [11+14*i for i in range(1,72,9)]\n",
        "    elif (Number_of_pilot == 8):\n",
        "      idx = [4+14*(i) for  i in range(5,72,18)]+[9+14*(i) for i in range(8,72,18)]\n",
        "    elif (Number_of_pilot == 36):\n",
        "      idx = [14*(i) for  i in range(1,72,6)]+[6+14*(i) for i in range(4,72,6)] + [11+14*i for i in range(1,72,6)]\n",
        "\n",
        "\n",
        "\n",
        "    r = [x//14 for x in idx]\n",
        "    c = [x%14 for x in idx]\n",
        "\n",
        "\n",
        "\n",
        "    interp_noisy = np.zeros((40000,72,14,2))\n",
        "\n",
        "    for i in range(len(noisy)):\n",
        "        z = [noisy_image[i,j,k,0] for j,k in zip(r,c)]\n",
        "        if(interp == 'rbf'):\n",
        "            f = interpolate.Rbf(np.array(r).astype(float), np.array(c).astype(float), z,function='gaussian')\n",
        "            X , Y = np.meshgrid(range(72),range(14))\n",
        "            z_intp = f(X, Y)\n",
        "            interp_noisy[i,:,:,0] = z_intp.T\n",
        "        elif(interp == 'spline'):\n",
        "            tck = interpolate.bisplrep(np.array(r).astype(float), np.array(c).astype(float), z)\n",
        "            z_intp = interpolate.bisplev(range(72),range(14),tck)\n",
        "            interp_noisy[i,:,:,0] = z_intp\n",
        "        z = [noisy_image[i,j,k,1] for j,k in zip(r,c)]\n",
        "        if(interp == 'rbf'):\n",
        "            f = interpolate.Rbf(np.array(r).astype(float), np.array(c).astype(float), z,function='gaussian')\n",
        "            X , Y = np.meshgrid(range(72),range(14))\n",
        "            z_intp = f(X, Y)\n",
        "            interp_noisy[i,:,:,1] = z_intp.T\n",
        "        elif(interp == 'spline'):\n",
        "            tck = interpolate.bisplrep(np.array(r).astype(float), np.array(c).astype(float), z)\n",
        "            z_intp = interpolate.bisplev(range(72),range(14),tck)\n",
        "            interp_noisy[i,:,:,1] = z_intp\n",
        "\n",
        "\n",
        "    interp_noisy = np.concatenate((interp_noisy[:,:,:,0], interp_noisy[:,:,:,1]), axis=0).reshape(80000, 72, 14, 1)\n",
        "   \n",
        "    \n",
        "    return interp_noisy"
      ],
      "execution_count": 0,
      "outputs": []
    },
    {
      "cell_type": "code",
      "metadata": {
        "id": "soyZlpzt83Ti",
        "colab_type": "code",
        "colab": {}
      },
      "source": [
        "def SRCNN_model():\n",
        "\n",
        "    input_shape = (72,14,1)\n",
        "    x = Input(shape = input_shape)\n",
        "    c1 = Convolution2D( 64 , 9 , 9 , activation = 'relu', init = 'he_normal', border_mode='same')(x)\n",
        "    c2 = Convolution2D( 32 , 1 , 1 , activation = 'relu', init = 'he_normal', border_mode='same')(c1)\n",
        "    c3 = Convolution2D( 1 , 5 , 5 , init = 'he_normal', border_mode='same')(c2)\n",
        "    #c4 = Input(shape = input_shape)(c3)\n",
        "    model = Model(input = x, output = c3)\n",
        "    ##compile\n",
        "    adam = Adam(lr=0.001, beta_1=0.9, beta_2=0.999, epsilon=1e-8) \n",
        "    model.compile(optimizer=adam, loss='mean_squared_error', metrics=['mean_squared_error']) \n",
        "    return model"
      ],
      "execution_count": 0,
      "outputs": []
    },
    {
      "cell_type": "code",
      "metadata": {
        "id": "mdqwO4r989kc",
        "colab_type": "code",
        "colab": {}
      },
      "source": [
        "def SRCNN_train(train_data ,train_label, val_data , val_label , channel_model , num_pilots , SNR ):\n",
        "    srcnn_model = SRCNN_model()\n",
        "    print(srcnn_model.summary())\n",
        "    \n",
        "    checkpoint = ModelCheckpoint(\"SRCNN_check.h5\", monitor='val_loss', verbose=1, save_best_only=True,\n",
        "                                 save_weights_only=False, mode='min')\n",
        "    callbacks_list = [checkpoint]\n",
        "\n",
        "    srcnn_model.fit(train_data, train_label, batch_size=128, validation_data=(val_data, val_label),\n",
        "                    callbacks=callbacks_list, shuffle=True, epochs= 300 , verbose=0)\n",
        "    \n",
        "    #srcnn_model.save_weights(\"drive/codes/my_srcnn/SRCNN_SUI5_weights/SRCNN_48_12.h5\")\n",
        "    srcnn_model.save_weights(\"SRCNN_\" + channel_model +\"_\"+ str(num_pilots) + \"_\"  + str(SNR) + \".h5\")"
      ],
      "execution_count": 0,
      "outputs": []
    },
    {
      "cell_type": "code",
      "metadata": {
        "id": "NMKXceFu9AUX",
        "colab_type": "code",
        "colab": {}
      },
      "source": [
        "def SRCNN_predict(input_data , channel_model , num_pilots , SNR):\n",
        "    srcnn_model = SRCNN_model()\n",
        "    srcnn_model.load_weights(\"SRCNN_\" + channel_model +\"_\"+ str(num_pilots) + \"_\"  + str(SNR) + \".h5\")\n",
        "    predicted  = srcnn_model.predict(input_data)\n",
        "    return predicted"
      ],
      "execution_count": 0,
      "outputs": []
    },
    {
      "cell_type": "code",
      "metadata": {
        "id": "_BJm3IQz9Ejc",
        "colab_type": "code",
        "colab": {}
      },
      "source": [
        "def DNCNN_model ():\n",
        "  \n",
        "    inpt = Input(shape=(None,None,1))\n",
        "    # 1st layer, Conv+relu\n",
        "    x = Conv2D(filters=64, kernel_size=(3,3), strides=(1,1), padding='same')(inpt)\n",
        "    x = Activation('relu')(x)\n",
        "    # 18 layers, Conv+BN+relu\n",
        "    for i in range(18):\n",
        "        x = Conv2D(filters=64, kernel_size=(3,3), strides=(1,1), padding='same')(x)\n",
        "        x = BatchNormalization(axis=-1, epsilon=1e-3)(x)\n",
        "        x = Activation('relu')(x)   \n",
        "    # last layer, Conv\n",
        "    x = Conv2D(filters=1, kernel_size=(3,3), strides=(1,1), padding='same')(x)\n",
        "    x = Subtract()([inpt, x])   # input - noise\n",
        "    model = Model(inputs=inpt, outputs=x)\n",
        "    adam = Adam(lr=0.001, beta_1=0.9, beta_2=0.999, epsilon=1e-8) \n",
        "    model.compile(optimizer=adam, loss='mean_squared_error', metrics=['mean_squared_error'])    \n",
        "    return model"
      ],
      "execution_count": 0,
      "outputs": []
    },
    {
      "cell_type": "code",
      "metadata": {
        "id": "OPL7z8uv9I7I",
        "colab_type": "code",
        "colab": {}
      },
      "source": [
        "def DNCNN_train(train_data ,train_label, val_data , val_label, channel_model , num_pilots , SNR ):\n",
        "  \n",
        "  dncnn_model = DNCNN_model()\n",
        "  print(dncnn_model.summary())\n",
        "\n",
        "  checkpoint = ModelCheckpoint(\"DNCNN_check.h5\", monitor='val_loss', verbose=1, save_best_only=True,\n",
        "                               save_weights_only=False, mode='min')\n",
        "  callbacks_list = [checkpoint]\n",
        "\n",
        "  dncnn_model.fit(train_data, train_label, batch_size=128, validation_data=(val_data, val_label),\n",
        "                  callbacks=callbacks_list, shuffle=True, epochs= 200 , verbose=0)\n",
        "  dncnn_model.save_weights(\"DNCNN_\" + channel_model +\"_\"+ str(num_pilots) + \"_\"  + str(SNR) + \".h5\")"
      ],
      "execution_count": 0,
      "outputs": []
    },
    {
      "cell_type": "code",
      "metadata": {
        "id": "G7zuSWFk9MNQ",
        "colab_type": "code",
        "colab": {}
      },
      "source": [
        "def DNCNN_predict(input_data, channel_model , num_pilots , SNR):\n",
        "  dncnn_model = DNCNN_model()\n",
        "  dncnn_model.load_weights(\"DNCNN_\" + channel_model +\"_\"+ str(num_pilots) + \"_\"  + str(SNR) + \".h5\")\n",
        "  predicted  = dncnn_model.predict(input_data)\n",
        "  return predicted"
      ],
      "execution_count": 0,
      "outputs": []
    },
    {
      "cell_type": "code",
      "metadata": {
        "id": "RQBHqnZC9XHY",
        "colab_type": "code",
        "colab": {
          "base_uri": "https://localhost:8080/",
          "height": 135
        },
        "outputId": "5bdc0c16-7853-448d-a466-e67900777f33"
      },
      "source": [
        "if __name__ == \"__main__\":\n",
        "    # load datasets \n",
        "    channel_model = \"VehA\"\n",
        "    SNR = 22\n",
        "    Number_of_pilots = 48\n",
        "    perfect = loadmat(\"Perfect_\"+ channel_model.mat')['My_perfect_H']\n",
        "    noisy_input = loadmat(\"Noisy_\" + channel_model + \"_\" + \"SNR_\" + str(SNR) + \".mat\") [channel_model+\"_noisy_\"+ str(SNR)]             \n",
        "                      \n",
        "    interp_noisy = interpolation(noisy_input , SNR , Number_of_pilots , 'rbf')\n",
        "    \n",
        "    \n",
        "    #interp_noisy = numpy.load('drive/codes/my_srcnn/SUI5_12_48_rbf.npy')\n",
        "    #perfect = loadmat('drive/codes/my_srcnn/SUI5_perfect.mat')['SUI5_perfect_H']\n",
        "    perfect_image = numpy.zeros((len(perfect),72,14,2))\n",
        "    perfect_image[:,:,:,0] = numpy.real(perfect)\n",
        "    perfect_image[:,:,:,1] = numpy.imag(perfect)\n",
        "    perfect_image = numpy.concatenate((perfect_image[:,:,:,0], perfect_image[:,:,:,1]), axis=0).reshape(2*len(perfect), 72, 14, 1)\n",
        "    \n",
        "    \n",
        "    ####### ------ training SRCNN ------ #######\n",
        "    idx_random = numpy.random.rand(len(perfect_image)) < (1/9)  # uses 32000 from 36000 as training and the rest as validation\n",
        "    train_data, train_label = interp_noisy[idx_random,:,:,:] , perfect_image[idx_random,:,:,:]\n",
        "    val_data, val_label = interp_noisy[~idx_random,:,:,:] , perfect_image[~idx_random,:,:,:]    \n",
        "    SRCNN_train(train_data ,train_label, val_data , val_label , channel_model , Number_of_pilots , SNR )\n",
        "    \n",
        "   \n",
        "    ####### ------ prediction using SRCNN ------ #######\n",
        "    srcnn_pred_train = SRCNN_predict(train_data, channel_model , num_pilots , SNR)\n",
        "    srcnn_pred_validation = SRCNN_predict(train_data, channel_model , num_pilots , SNR)  \n",
        "                      \n",
        "                      \n",
        "    ####### ------ training DNCNN ------ #######\n",
        "    DNCNN_train(input_data, channel_model , num_pilots , SNR):"
      ],
      "execution_count": 13,
      "outputs": [
        {
          "output_type": "error",
          "ename": "SyntaxError",
          "evalue": "ignored",
          "traceback": [
            "\u001b[0;36m  File \u001b[0;32m\"<ipython-input-13-e22b8b147054>\"\u001b[0;36m, line \u001b[0;32m6\u001b[0m\n\u001b[0;31m    perfect = loadmat(\"Perfect_\"+ channel_model.mat')['My_perfect_H']\u001b[0m\n\u001b[0m                                                      ^\u001b[0m\n\u001b[0;31mSyntaxError\u001b[0m\u001b[0;31m:\u001b[0m invalid syntax\n"
          ]
        }
      ]
    }
  ]
}