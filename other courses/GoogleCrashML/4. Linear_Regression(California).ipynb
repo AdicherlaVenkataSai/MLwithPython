{
  "nbformat": 4,
  "nbformat_minor": 0,
  "metadata": {
    "colab": {
      "name": "4. Linear Regression(California).ipynb",
      "provenance": [],
      "authorship_tag": "ABX9TyN5hmSXrwjMUFzyJ0R+0b9s",
      "include_colab_link": true
    },
    "kernelspec": {
      "name": "python3",
      "display_name": "Python 3"
    }
  },
  "cells": [
    {
      "cell_type": "markdown",
      "metadata": {
        "id": "view-in-github",
        "colab_type": "text"
      },
      "source": [
        "<a href=\"https://colab.research.google.com/github/AdicherlaVenkataSai/GooglecrashML/blob/master/4.%20Linear_Regression(California).ipynb\" target=\"_parent\"><img src=\"https://colab.research.google.com/assets/colab-badge.svg\" alt=\"Open In Colab\"/></a>"
      ]
    },
    {
      "cell_type": "markdown",
      "metadata": {
        "id": "QhxphJxHWthO",
        "colab_type": "text"
      },
      "source": [
        "dataset  link:\n",
        "https://download.mlcc.google.com/mledu-datasets/california_housing_train.csv\n",
        "\n",
        "\n",
        "The [dataset for this exercise](https://developers.google.com/machine-learning/crash-course/california-housing-data-description) is based on 1990 census data from California. The dataset is old but still provides a great opportunity to learn about machine learning programming."
      ]
    },
    {
      "cell_type": "code",
      "metadata": {
        "id": "FEjS5T9hVaZu",
        "colab_type": "code",
        "colab": {}
      },
      "source": [
        "# import modules\n",
        "\n",
        "import numpy as np\n",
        "import pandas as pd\n",
        "import matplotlib.pyplot as plt\n",
        "%matplotlib inline"
      ],
      "execution_count": 0,
      "outputs": []
    },
    {
      "cell_type": "code",
      "metadata": {
        "id": "eInYtmI3XzHw",
        "colab_type": "code",
        "colab": {
          "base_uri": "https://localhost:8080/",
          "height": 34
        },
        "outputId": "dfaea03f-f76d-497c-a045-4b92303cb6a4"
      },
      "source": [
        "# import the dataset\n",
        "\n",
        "df = pd.read_csv(filepath_or_buffer=\"https://download.mlcc.google.com/mledu-datasets/california_housing_train.csv\")\n",
        "df.shape"
      ],
      "execution_count": 25,
      "outputs": [
        {
          "output_type": "execute_result",
          "data": {
            "text/plain": [
              "(17000, 9)"
            ]
          },
          "metadata": {
            "tags": []
          },
          "execution_count": 25
        }
      ]
    },
    {
      "cell_type": "code",
      "metadata": {
        "id": "4TAUQXZ-YC21",
        "colab_type": "code",
        "colab": {
          "base_uri": "https://localhost:8080/",
          "height": 224
        },
        "outputId": "b008888d-6f4f-47c7-9c26-7f6c3c3fcbcc"
      },
      "source": [
        "#loot at the data\n",
        "\n",
        "df.head()"
      ],
      "execution_count": 26,
      "outputs": [
        {
          "output_type": "execute_result",
          "data": {
            "text/html": [
              "<div>\n",
              "<style scoped>\n",
              "    .dataframe tbody tr th:only-of-type {\n",
              "        vertical-align: middle;\n",
              "    }\n",
              "\n",
              "    .dataframe tbody tr th {\n",
              "        vertical-align: top;\n",
              "    }\n",
              "\n",
              "    .dataframe thead th {\n",
              "        text-align: right;\n",
              "    }\n",
              "</style>\n",
              "<table border=\"1\" class=\"dataframe\">\n",
              "  <thead>\n",
              "    <tr style=\"text-align: right;\">\n",
              "      <th></th>\n",
              "      <th>longitude</th>\n",
              "      <th>latitude</th>\n",
              "      <th>housing_median_age</th>\n",
              "      <th>total_rooms</th>\n",
              "      <th>total_bedrooms</th>\n",
              "      <th>population</th>\n",
              "      <th>households</th>\n",
              "      <th>median_income</th>\n",
              "      <th>median_house_value</th>\n",
              "    </tr>\n",
              "  </thead>\n",
              "  <tbody>\n",
              "    <tr>\n",
              "      <th>0</th>\n",
              "      <td>-114.31</td>\n",
              "      <td>34.19</td>\n",
              "      <td>15.0</td>\n",
              "      <td>5612.0</td>\n",
              "      <td>1283.0</td>\n",
              "      <td>1015.0</td>\n",
              "      <td>472.0</td>\n",
              "      <td>1.4936</td>\n",
              "      <td>66900.0</td>\n",
              "    </tr>\n",
              "    <tr>\n",
              "      <th>1</th>\n",
              "      <td>-114.47</td>\n",
              "      <td>34.40</td>\n",
              "      <td>19.0</td>\n",
              "      <td>7650.0</td>\n",
              "      <td>1901.0</td>\n",
              "      <td>1129.0</td>\n",
              "      <td>463.0</td>\n",
              "      <td>1.8200</td>\n",
              "      <td>80100.0</td>\n",
              "    </tr>\n",
              "    <tr>\n",
              "      <th>2</th>\n",
              "      <td>-114.56</td>\n",
              "      <td>33.69</td>\n",
              "      <td>17.0</td>\n",
              "      <td>720.0</td>\n",
              "      <td>174.0</td>\n",
              "      <td>333.0</td>\n",
              "      <td>117.0</td>\n",
              "      <td>1.6509</td>\n",
              "      <td>85700.0</td>\n",
              "    </tr>\n",
              "    <tr>\n",
              "      <th>3</th>\n",
              "      <td>-114.57</td>\n",
              "      <td>33.64</td>\n",
              "      <td>14.0</td>\n",
              "      <td>1501.0</td>\n",
              "      <td>337.0</td>\n",
              "      <td>515.0</td>\n",
              "      <td>226.0</td>\n",
              "      <td>3.1917</td>\n",
              "      <td>73400.0</td>\n",
              "    </tr>\n",
              "    <tr>\n",
              "      <th>4</th>\n",
              "      <td>-114.57</td>\n",
              "      <td>33.57</td>\n",
              "      <td>20.0</td>\n",
              "      <td>1454.0</td>\n",
              "      <td>326.0</td>\n",
              "      <td>624.0</td>\n",
              "      <td>262.0</td>\n",
              "      <td>1.9250</td>\n",
              "      <td>65500.0</td>\n",
              "    </tr>\n",
              "  </tbody>\n",
              "</table>\n",
              "</div>"
            ],
            "text/plain": [
              "   longitude  latitude  ...  median_income  median_house_value\n",
              "0    -114.31     34.19  ...         1.4936             66900.0\n",
              "1    -114.47     34.40  ...         1.8200             80100.0\n",
              "2    -114.56     33.69  ...         1.6509             85700.0\n",
              "3    -114.57     33.64  ...         3.1917             73400.0\n",
              "4    -114.57     33.57  ...         1.9250             65500.0\n",
              "\n",
              "[5 rows x 9 columns]"
            ]
          },
          "metadata": {
            "tags": []
          },
          "execution_count": 26
        }
      ]
    },
    {
      "cell_type": "code",
      "metadata": {
        "id": "NgEV45ODYVSL",
        "colab_type": "code",
        "colab": {
          "base_uri": "https://localhost:8080/",
          "height": 187
        },
        "outputId": "84789172-728f-489e-adfc-2ce17d2ad836"
      },
      "source": [
        "#checking for missing values\n",
        "\n",
        "df.isnull().sum()"
      ],
      "execution_count": 27,
      "outputs": [
        {
          "output_type": "execute_result",
          "data": {
            "text/plain": [
              "longitude             0\n",
              "latitude              0\n",
              "housing_median_age    0\n",
              "total_rooms           0\n",
              "total_bedrooms        0\n",
              "population            0\n",
              "households            0\n",
              "median_income         0\n",
              "median_house_value    0\n",
              "dtype: int64"
            ]
          },
          "metadata": {
            "tags": []
          },
          "execution_count": 27
        }
      ]
    },
    {
      "cell_type": "code",
      "metadata": {
        "id": "ccdzyqesYYLf",
        "colab_type": "code",
        "colab": {
          "base_uri": "https://localhost:8080/",
          "height": 187
        },
        "outputId": "49cd78eb-0b64-4929-f8b4-262aaa1c8796"
      },
      "source": [
        "#datatypes \n",
        "\n",
        "df.dtypes"
      ],
      "execution_count": 28,
      "outputs": [
        {
          "output_type": "execute_result",
          "data": {
            "text/plain": [
              "longitude             float64\n",
              "latitude              float64\n",
              "housing_median_age    float64\n",
              "total_rooms           float64\n",
              "total_bedrooms        float64\n",
              "population            float64\n",
              "households            float64\n",
              "median_income         float64\n",
              "median_house_value    float64\n",
              "dtype: object"
            ]
          },
          "metadata": {
            "tags": []
          },
          "execution_count": 28
        }
      ]
    },
    {
      "cell_type": "code",
      "metadata": {
        "id": "jz0xfUjaYaco",
        "colab_type": "code",
        "colab": {
          "base_uri": "https://localhost:8080/",
          "height": 224
        },
        "outputId": "1e1742dd-da38-4373-a477-7c32557e52f3"
      },
      "source": [
        "# scale the label\n",
        "\n",
        "df['median_house_value'] /= 1000.0\n",
        "\n",
        "df.head()"
      ],
      "execution_count": 29,
      "outputs": [
        {
          "output_type": "execute_result",
          "data": {
            "text/html": [
              "<div>\n",
              "<style scoped>\n",
              "    .dataframe tbody tr th:only-of-type {\n",
              "        vertical-align: middle;\n",
              "    }\n",
              "\n",
              "    .dataframe tbody tr th {\n",
              "        vertical-align: top;\n",
              "    }\n",
              "\n",
              "    .dataframe thead th {\n",
              "        text-align: right;\n",
              "    }\n",
              "</style>\n",
              "<table border=\"1\" class=\"dataframe\">\n",
              "  <thead>\n",
              "    <tr style=\"text-align: right;\">\n",
              "      <th></th>\n",
              "      <th>longitude</th>\n",
              "      <th>latitude</th>\n",
              "      <th>housing_median_age</th>\n",
              "      <th>total_rooms</th>\n",
              "      <th>total_bedrooms</th>\n",
              "      <th>population</th>\n",
              "      <th>households</th>\n",
              "      <th>median_income</th>\n",
              "      <th>median_house_value</th>\n",
              "    </tr>\n",
              "  </thead>\n",
              "  <tbody>\n",
              "    <tr>\n",
              "      <th>0</th>\n",
              "      <td>-114.31</td>\n",
              "      <td>34.19</td>\n",
              "      <td>15.0</td>\n",
              "      <td>5612.0</td>\n",
              "      <td>1283.0</td>\n",
              "      <td>1015.0</td>\n",
              "      <td>472.0</td>\n",
              "      <td>1.4936</td>\n",
              "      <td>66.9</td>\n",
              "    </tr>\n",
              "    <tr>\n",
              "      <th>1</th>\n",
              "      <td>-114.47</td>\n",
              "      <td>34.40</td>\n",
              "      <td>19.0</td>\n",
              "      <td>7650.0</td>\n",
              "      <td>1901.0</td>\n",
              "      <td>1129.0</td>\n",
              "      <td>463.0</td>\n",
              "      <td>1.8200</td>\n",
              "      <td>80.1</td>\n",
              "    </tr>\n",
              "    <tr>\n",
              "      <th>2</th>\n",
              "      <td>-114.56</td>\n",
              "      <td>33.69</td>\n",
              "      <td>17.0</td>\n",
              "      <td>720.0</td>\n",
              "      <td>174.0</td>\n",
              "      <td>333.0</td>\n",
              "      <td>117.0</td>\n",
              "      <td>1.6509</td>\n",
              "      <td>85.7</td>\n",
              "    </tr>\n",
              "    <tr>\n",
              "      <th>3</th>\n",
              "      <td>-114.57</td>\n",
              "      <td>33.64</td>\n",
              "      <td>14.0</td>\n",
              "      <td>1501.0</td>\n",
              "      <td>337.0</td>\n",
              "      <td>515.0</td>\n",
              "      <td>226.0</td>\n",
              "      <td>3.1917</td>\n",
              "      <td>73.4</td>\n",
              "    </tr>\n",
              "    <tr>\n",
              "      <th>4</th>\n",
              "      <td>-114.57</td>\n",
              "      <td>33.57</td>\n",
              "      <td>20.0</td>\n",
              "      <td>1454.0</td>\n",
              "      <td>326.0</td>\n",
              "      <td>624.0</td>\n",
              "      <td>262.0</td>\n",
              "      <td>1.9250</td>\n",
              "      <td>65.5</td>\n",
              "    </tr>\n",
              "  </tbody>\n",
              "</table>\n",
              "</div>"
            ],
            "text/plain": [
              "   longitude  latitude  ...  median_income  median_house_value\n",
              "0    -114.31     34.19  ...         1.4936                66.9\n",
              "1    -114.47     34.40  ...         1.8200                80.1\n",
              "2    -114.56     33.69  ...         1.6509                85.7\n",
              "3    -114.57     33.64  ...         3.1917                73.4\n",
              "4    -114.57     33.57  ...         1.9250                65.5\n",
              "\n",
              "[5 rows x 9 columns]"
            ]
          },
          "metadata": {
            "tags": []
          },
          "execution_count": 29
        }
      ]
    },
    {
      "cell_type": "markdown",
      "metadata": {
        "id": "Txvh352VZPlw",
        "colab_type": "text"
      },
      "source": [
        "Scaling median_house_value puts the value of each house in units of thousands. Scaling will keep loss values and learning rates in a friendlier range.\n",
        "\n",
        "Although scaling a label is usually not essential, scaling features in a multi-feature model usually is essential."
      ]
    },
    {
      "cell_type": "code",
      "metadata": {
        "id": "FSiK-AkHZGgr",
        "colab_type": "code",
        "colab": {
          "base_uri": "https://localhost:8080/",
          "height": 317
        },
        "outputId": "036e1df5-bf69-43d2-e798-27664a371387"
      },
      "source": [
        "# examine the dataset\n",
        "#check the data\n",
        "#check for missing values\n",
        "#check the datatypes\n",
        "#get statistics of data\n",
        "\n",
        "df.describe()\n",
        "#describe func doesnt work for categorical values\n",
        "#as the dataset doesnt have its fine\n",
        "# else we can use df.describe(include = 'all') even for categorical"
      ],
      "execution_count": 30,
      "outputs": [
        {
          "output_type": "execute_result",
          "data": {
            "text/html": [
              "<div>\n",
              "<style scoped>\n",
              "    .dataframe tbody tr th:only-of-type {\n",
              "        vertical-align: middle;\n",
              "    }\n",
              "\n",
              "    .dataframe tbody tr th {\n",
              "        vertical-align: top;\n",
              "    }\n",
              "\n",
              "    .dataframe thead th {\n",
              "        text-align: right;\n",
              "    }\n",
              "</style>\n",
              "<table border=\"1\" class=\"dataframe\">\n",
              "  <thead>\n",
              "    <tr style=\"text-align: right;\">\n",
              "      <th></th>\n",
              "      <th>longitude</th>\n",
              "      <th>latitude</th>\n",
              "      <th>housing_median_age</th>\n",
              "      <th>total_rooms</th>\n",
              "      <th>total_bedrooms</th>\n",
              "      <th>population</th>\n",
              "      <th>households</th>\n",
              "      <th>median_income</th>\n",
              "      <th>median_house_value</th>\n",
              "    </tr>\n",
              "  </thead>\n",
              "  <tbody>\n",
              "    <tr>\n",
              "      <th>count</th>\n",
              "      <td>17000.000000</td>\n",
              "      <td>17000.000000</td>\n",
              "      <td>17000.000000</td>\n",
              "      <td>17000.000000</td>\n",
              "      <td>17000.000000</td>\n",
              "      <td>17000.000000</td>\n",
              "      <td>17000.000000</td>\n",
              "      <td>17000.000000</td>\n",
              "      <td>17000.000000</td>\n",
              "    </tr>\n",
              "    <tr>\n",
              "      <th>mean</th>\n",
              "      <td>-119.562108</td>\n",
              "      <td>35.625225</td>\n",
              "      <td>28.589353</td>\n",
              "      <td>2643.664412</td>\n",
              "      <td>539.410824</td>\n",
              "      <td>1429.573941</td>\n",
              "      <td>501.221941</td>\n",
              "      <td>3.883578</td>\n",
              "      <td>207.300912</td>\n",
              "    </tr>\n",
              "    <tr>\n",
              "      <th>std</th>\n",
              "      <td>2.005166</td>\n",
              "      <td>2.137340</td>\n",
              "      <td>12.586937</td>\n",
              "      <td>2179.947071</td>\n",
              "      <td>421.499452</td>\n",
              "      <td>1147.852959</td>\n",
              "      <td>384.520841</td>\n",
              "      <td>1.908157</td>\n",
              "      <td>115.983764</td>\n",
              "    </tr>\n",
              "    <tr>\n",
              "      <th>min</th>\n",
              "      <td>-124.350000</td>\n",
              "      <td>32.540000</td>\n",
              "      <td>1.000000</td>\n",
              "      <td>2.000000</td>\n",
              "      <td>1.000000</td>\n",
              "      <td>3.000000</td>\n",
              "      <td>1.000000</td>\n",
              "      <td>0.499900</td>\n",
              "      <td>14.999000</td>\n",
              "    </tr>\n",
              "    <tr>\n",
              "      <th>25%</th>\n",
              "      <td>-121.790000</td>\n",
              "      <td>33.930000</td>\n",
              "      <td>18.000000</td>\n",
              "      <td>1462.000000</td>\n",
              "      <td>297.000000</td>\n",
              "      <td>790.000000</td>\n",
              "      <td>282.000000</td>\n",
              "      <td>2.566375</td>\n",
              "      <td>119.400000</td>\n",
              "    </tr>\n",
              "    <tr>\n",
              "      <th>50%</th>\n",
              "      <td>-118.490000</td>\n",
              "      <td>34.250000</td>\n",
              "      <td>29.000000</td>\n",
              "      <td>2127.000000</td>\n",
              "      <td>434.000000</td>\n",
              "      <td>1167.000000</td>\n",
              "      <td>409.000000</td>\n",
              "      <td>3.544600</td>\n",
              "      <td>180.400000</td>\n",
              "    </tr>\n",
              "    <tr>\n",
              "      <th>75%</th>\n",
              "      <td>-118.000000</td>\n",
              "      <td>37.720000</td>\n",
              "      <td>37.000000</td>\n",
              "      <td>3151.250000</td>\n",
              "      <td>648.250000</td>\n",
              "      <td>1721.000000</td>\n",
              "      <td>605.250000</td>\n",
              "      <td>4.767000</td>\n",
              "      <td>265.000000</td>\n",
              "    </tr>\n",
              "    <tr>\n",
              "      <th>max</th>\n",
              "      <td>-114.310000</td>\n",
              "      <td>41.950000</td>\n",
              "      <td>52.000000</td>\n",
              "      <td>37937.000000</td>\n",
              "      <td>6445.000000</td>\n",
              "      <td>35682.000000</td>\n",
              "      <td>6082.000000</td>\n",
              "      <td>15.000100</td>\n",
              "      <td>500.001000</td>\n",
              "    </tr>\n",
              "  </tbody>\n",
              "</table>\n",
              "</div>"
            ],
            "text/plain": [
              "          longitude      latitude  ...  median_income  median_house_value\n",
              "count  17000.000000  17000.000000  ...   17000.000000        17000.000000\n",
              "mean    -119.562108     35.625225  ...       3.883578          207.300912\n",
              "std        2.005166      2.137340  ...       1.908157          115.983764\n",
              "min     -124.350000     32.540000  ...       0.499900           14.999000\n",
              "25%     -121.790000     33.930000  ...       2.566375          119.400000\n",
              "50%     -118.490000     34.250000  ...       3.544600          180.400000\n",
              "75%     -118.000000     37.720000  ...       4.767000          265.000000\n",
              "max     -114.310000     41.950000  ...      15.000100          500.001000\n",
              "\n",
              "[8 rows x 9 columns]"
            ]
          },
          "metadata": {
            "tags": []
          },
          "execution_count": 30
        }
      ]
    },
    {
      "cell_type": "markdown",
      "metadata": {
        "id": "xj6ZFByfaaYY",
        "colab_type": "text"
      },
      "source": [
        "## Task 1: Identify anomalies in the dataset\n",
        "\n",
        "Do you see any anomalies (strange values) in the data? \n",
        "\n",
        "```\n",
        "# The maximum value (max) of several columns seems very\n",
        "# high compared to the other quantiles. For example,\n",
        "# example the total_rooms column. Given the quantile\n",
        "# values (25%, 50%, and 75%), you might expect the \n",
        "# max value of total_rooms to be approximately \n",
        "# 5,000 or possibly 10,000. However, the max value \n",
        "# is actually 37,937.\n",
        "\n",
        "# When you see anomalies in a column, become more careful\n",
        "# about using that column as a feature. That said,\n",
        "# anomalies in potential features sometimes mirror \n",
        "# anomalies in the label, which could make the column \n",
        "# be (or seem to be) a powerful feature.\n",
        "# Also, as you will see later in the course, you \n",
        "# might be able to represent (pre-process) raw data \n",
        "# in order to make columns into useful features.\n",
        "```"
      ]
    },
    {
      "cell_type": "code",
      "metadata": {
        "id": "Abss0X18Zp9c",
        "colab_type": "code",
        "colab": {
          "base_uri": "https://localhost:8080/",
          "height": 34
        },
        "outputId": "47a472ed-a817-4cd4-dc38-9182a1feeee8"
      },
      "source": [
        "import tensorflow as tf\n",
        "from tensorflow import keras\n",
        "# model building\n",
        "def build_model(learning_rate):\n",
        "  \"\"\"Create and compile a simple linear regression model.\"\"\"\n",
        "  # Most simple tf.keras models are sequential. \n",
        "  # A sequential model contains one or more layers.\n",
        "  model = tf.keras.models.Sequential()\n",
        "  # Describe the topography of the model.\n",
        "  # The topography of a simple linear regression model\n",
        "  # is a single node in a single layer. \n",
        "  model.add(tf.keras.layers.Dense(units = 1, input_shape = (1,)))\n",
        "  # Compile the model topography into code that \n",
        "  # TensorFlow can efficiently execute. Configure \n",
        "  # training to minimize the model's mean squared error.\n",
        "  model.compile(optimizer = tf.keras.optimizers.RMSprop(lr = learning_rate),\n",
        "                loss = 'mean_squared_error',\n",
        "                metrics = [tf.keras.metrics.RootMeanSquaredError()])\n",
        "  return model\n",
        "  \n",
        "def train_model(model, df, feature, label, epochs, batch_size):\n",
        "  \"\"\"Train the model by feeding it data.\"\"\"\n",
        "\n",
        "  # Feed the model the feature and the label.\n",
        "  # The model will train for the specified number of epochs. \n",
        "  history = model.fit(x=df[feature],\n",
        "                      y=df[label],\n",
        "                      batch_size=batch_size,\n",
        "                      epochs=epochs)\n",
        "\n",
        "  # Gather the trained model's weight and bias.\n",
        "  trained_weight = model.get_weights()[0]\n",
        "  trained_bias = model.get_weights()[1]\n",
        "\n",
        "  # The list of epochs is stored separately from the rest of history.\n",
        "  epochs = history.epoch\n",
        "  \n",
        "  # Isolate the error for each epoch.\n",
        "  hist = pd.DataFrame(history.history)\n",
        "\n",
        "  # To track the progression of training, we're going to take a snapshot\n",
        "  # of the model's root mean squared error at each epoch. \n",
        "  rmse = hist[\"root_mean_squared_error\"]\n",
        "\n",
        "  return trained_weight, trained_bias, epochs, rmse\n",
        "\n",
        "print(\"Defined the create_model and traing_model functions.\")"
      ],
      "execution_count": 31,
      "outputs": [
        {
          "output_type": "stream",
          "text": [
            "Defined the create_model and traing_model functions.\n"
          ],
          "name": "stdout"
        }
      ]
    },
    {
      "cell_type": "code",
      "metadata": {
        "id": "xVt2GKnYdM1u",
        "colab_type": "code",
        "colab": {
          "base_uri": "https://localhost:8080/",
          "height": 34
        },
        "outputId": "a48f437d-e4f7-4382-8780-afe4ce385099"
      },
      "source": [
        "def plot_the_model(trained_weight, trained_bias, feature, label):\n",
        "  \"\"\"Plot the trained model against 200 random training examples.\"\"\"\n",
        "\n",
        "  # Label the axes.\n",
        "  plt.xlabel(feature)\n",
        "  plt.ylabel(label)\n",
        "\n",
        "  # Create a scatter plot from 200 random points of the dataset.\n",
        "  random_examples = df.sample(n=200)\n",
        "  plt.scatter(random_examples[feature], random_examples[label])\n",
        "\n",
        "  # Create a red line representing the model. The red line starts\n",
        "  # at coordinates (x0, y0) and ends at coordinates (x1, y1).\n",
        "  x0 = 0\n",
        "  y0 = trained_bias\n",
        "  x1 = 10000\n",
        "  y1 = trained_bias + (trained_weight * x1)\n",
        "  plt.plot([x0, x1], [y0, y1], c='r')\n",
        "\n",
        "  # Render the scatter plot and the red line.\n",
        "  plt.show()\n",
        "\n",
        "\n",
        "def plot_the_loss_curve(epochs, rmse):\n",
        "  \"\"\"Plot a curve of loss vs. epoch.\"\"\"\n",
        "\n",
        "  plt.figure()\n",
        "  plt.xlabel(\"Epoch\")\n",
        "  plt.ylabel(\"Root Mean Squared Error\")\n",
        "\n",
        "  plt.plot(epochs, rmse, label=\"Loss\")\n",
        "  plt.legend()\n",
        "  plt.ylim([rmse.min()*0.97, rmse.max()])\n",
        "  plt.show()  \n",
        "\n",
        "print(\"Defined the plot_the_model and plot_the_loss_curve functions.\")"
      ],
      "execution_count": 32,
      "outputs": [
        {
          "output_type": "stream",
          "text": [
            "Defined the plot_the_model and plot_the_loss_curve functions.\n"
          ],
          "name": "stdout"
        }
      ]
    },
    {
      "cell_type": "code",
      "metadata": {
        "id": "ZY3LLARDdpi7",
        "colab_type": "code",
        "colab": {
          "base_uri": "https://localhost:8080/",
          "height": 1000
        },
        "outputId": "a0c68516-043f-4065-c0ba-169aab1abdc6"
      },
      "source": [
        "# The following variables are the hyperparameters.\n",
        "learning_rate = 0.01\n",
        "epochs = 30\n",
        "batch_size = 30\n",
        "\n",
        "# Specify the feature and the label.\n",
        "feature = \"total_rooms\"  # the total number of rooms on a specific city block.\n",
        "label=\"median_house_value\" # the median value of a house on a specific city block.\n",
        "# That is, you're going to create a model that predicts house value based \n",
        "# solely on total_rooms.  \n",
        "\n",
        "# Discard any pre-existing version of the model.\n",
        "model = None\n",
        "\n",
        "# Invoke the functions.\n",
        "model = build_model(learning_rate)\n",
        "weight, bias, epochs, rmse = train_model(model, df, feature, label, epochs, batch_size)\n",
        "\n",
        "print(\"\\nThe learned weight for your model is %.4f\" % weight)\n",
        "print(\"The learned bias for your model is %.4f\\n\" % bias )\n",
        "\n",
        "plot_the_model(weight, bias, feature, label)\n",
        "plot_the_loss_curve(epochs, rmse)"
      ],
      "execution_count": 34,
      "outputs": [
        {
          "output_type": "stream",
          "text": [
            "Epoch 1/30\n",
            "567/567 [==============================] - 1s 892us/step - loss: 2568618.0000 - root_mean_squared_error: 1602.6909\n",
            "Epoch 2/30\n",
            "567/567 [==============================] - 1s 925us/step - loss: 27971.4961 - root_mean_squared_error: 167.2468\n",
            "Epoch 3/30\n",
            "567/567 [==============================] - 1s 899us/step - loss: 27125.4844 - root_mean_squared_error: 164.6982\n",
            "Epoch 4/30\n",
            "567/567 [==============================] - 1s 889us/step - loss: 26403.1953 - root_mean_squared_error: 162.4906\n",
            "Epoch 5/30\n",
            "567/567 [==============================] - 0s 881us/step - loss: 25564.4258 - root_mean_squared_error: 159.8888\n",
            "Epoch 6/30\n",
            "567/567 [==============================] - 1s 891us/step - loss: 24941.0137 - root_mean_squared_error: 157.9272\n",
            "Epoch 7/30\n",
            "567/567 [==============================] - 1s 915us/step - loss: 24430.6309 - root_mean_squared_error: 156.3030\n",
            "Epoch 8/30\n",
            "567/567 [==============================] - 1s 897us/step - loss: 23728.5977 - root_mean_squared_error: 154.0409\n",
            "Epoch 9/30\n",
            "567/567 [==============================] - 1s 890us/step - loss: 23087.9121 - root_mean_squared_error: 151.9471\n",
            "Epoch 10/30\n",
            "567/567 [==============================] - 1s 886us/step - loss: 22588.8730 - root_mean_squared_error: 150.2959\n",
            "Epoch 11/30\n",
            "567/567 [==============================] - 1s 889us/step - loss: 21758.5234 - root_mean_squared_error: 147.5077\n",
            "Epoch 12/30\n",
            "567/567 [==============================] - 1s 910us/step - loss: 21275.7598 - root_mean_squared_error: 145.8621\n",
            "Epoch 13/30\n",
            "567/567 [==============================] - 1s 901us/step - loss: 20707.8711 - root_mean_squared_error: 143.9023\n",
            "Epoch 14/30\n",
            "567/567 [==============================] - 1s 945us/step - loss: 20534.5234 - root_mean_squared_error: 143.2987\n",
            "Epoch 15/30\n",
            "567/567 [==============================] - 1s 884us/step - loss: 19818.5508 - root_mean_squared_error: 140.7784\n",
            "Epoch 16/30\n",
            "567/567 [==============================] - 1s 888us/step - loss: 19318.0078 - root_mean_squared_error: 138.9892\n",
            "Epoch 17/30\n",
            "567/567 [==============================] - 0s 869us/step - loss: 18979.8535 - root_mean_squared_error: 137.7674\n",
            "Epoch 18/30\n",
            "567/567 [==============================] - 1s 924us/step - loss: 18534.9473 - root_mean_squared_error: 136.1431\n",
            "Epoch 19/30\n",
            "567/567 [==============================] - 1s 890us/step - loss: 18165.5234 - root_mean_squared_error: 134.7795\n",
            "Epoch 20/30\n",
            "567/567 [==============================] - 1s 944us/step - loss: 17917.4316 - root_mean_squared_error: 133.8560\n",
            "Epoch 21/30\n",
            "567/567 [==============================] - 0s 878us/step - loss: 17542.6738 - root_mean_squared_error: 132.4488\n",
            "Epoch 22/30\n",
            "567/567 [==============================] - 1s 886us/step - loss: 17190.9004 - root_mean_squared_error: 131.1141\n",
            "Epoch 23/30\n",
            "567/567 [==============================] - 1s 896us/step - loss: 17018.0078 - root_mean_squared_error: 130.4531\n",
            "Epoch 24/30\n",
            "567/567 [==============================] - 1s 896us/step - loss: 16599.8594 - root_mean_squared_error: 128.8404\n",
            "Epoch 25/30\n",
            "567/567 [==============================] - 0s 864us/step - loss: 16343.1738 - root_mean_squared_error: 127.8404\n",
            "Epoch 26/30\n",
            "567/567 [==============================] - 1s 890us/step - loss: 16032.3311 - root_mean_squared_error: 126.6188\n",
            "Epoch 27/30\n",
            "567/567 [==============================] - 1s 909us/step - loss: 15919.3750 - root_mean_squared_error: 126.1720\n",
            "Epoch 28/30\n",
            "567/567 [==============================] - 1s 902us/step - loss: 15633.1025 - root_mean_squared_error: 125.0324\n",
            "Epoch 29/30\n",
            "567/567 [==============================] - 0s 869us/step - loss: 15484.1260 - root_mean_squared_error: 124.4352\n",
            "Epoch 30/30\n",
            "567/567 [==============================] - 1s 894us/step - loss: 15260.6885 - root_mean_squared_error: 123.5342\n",
            "\n",
            "The learned weight for your model is 0.0090\n",
            "The learned bias for your model is 132.3317\n",
            "\n"
          ],
          "name": "stdout"
        },
        {
          "output_type": "display_data",
          "data": {
            "image/png": "[encoded data removed]",
            "text/plain": [
              "<Figure size 432x288 with 1 Axes>"
            ]
          },
          "metadata": {
            "tags": [],
            "needs_background": "light"
          }
        },
        {
          "output_type": "display_data",
          "data": {
            "image/png": "[encoded data removed]",
            "text/plain": [
              "<Figure size 432x288 with 1 Axes>"
            ]
          },
          "metadata": {
            "tags": [],
            "needs_background": "light"
          }
        }
      ]
    },
    {
      "cell_type": "markdown",
      "metadata": {
        "id": "i6GJQ6_6ifZ3",
        "colab_type": "text"
      },
      "source": [
        "## Task1: Use the model to make predictions"
      ]
    },
    {
      "cell_type": "code",
      "metadata": {
        "id": "bAqSpVlgfUZ9",
        "colab_type": "code",
        "colab": {}
      },
      "source": [
        "\n",
        "def predict_house_values(n, feature, label ):\n",
        "  ''' Predict house values based on a featue '''\n",
        "  # n is no of examples predictes\n",
        "  # dataset has 17000 rows so \n",
        "  batch = df[feature][10000:10000 + n]\n",
        "  predicted_values = model.predict_on_batch(x = batch)\n",
        "  print(\"feature value      label value       predicted value\") \n",
        "  print(\"                   in thousand$      in thousand$\")\n",
        "  print(\"---------------------------------------------------\")\n",
        "\n",
        "  for i in range(n):\n",
        "    print('%5.0f %6.0f %15.0f' %(df[feature][10000 + i],\n",
        "                                 df[label][10000 + i],\n",
        "                                 predicted_values[i][0]))\n"
      ],
      "execution_count": 0,
      "outputs": []
    },
    {
      "cell_type": "code",
      "metadata": {
        "id": "DsBObVcog4xo",
        "colab_type": "code",
        "colab": {
          "base_uri": "https://localhost:8080/",
          "height": 408
        },
        "outputId": "b9e17c2f-2314-4d58-8c48-813ec19de051"
      },
      "source": [
        "predict_house_values(20, feature, label)"
      ],
      "execution_count": 52,
      "outputs": [
        {
          "output_type": "stream",
          "text": [
            "feature value      label value       predicted value\n",
            "                   in thousand$      in thousand$\n",
            "---------------------------------------------------\n",
            " 1960     53             150\n",
            " 3400     92             163\n",
            " 3677     69             165\n",
            " 2202     62             152\n",
            " 2403     80             154\n",
            " 5652    295             183\n",
            " 3318    500             162\n",
            " 2552    342             155\n",
            " 1364    118             145\n",
            " 3468    128             164\n",
            " 2902    187             159\n",
            "  782     80             139\n",
            " 4907    112             177\n",
            " 4164     95             170\n",
            " 2754     69             157\n",
            " 5016     90             178\n",
            " 4241     54             171\n",
            " 2260     68             153\n",
            " 2185     71             152\n",
            " 2164     73             152\n"
          ],
          "name": "stdout"
        }
      ]
    },
    {
      "cell_type": "markdown",
      "metadata": {
        "id": "NJ9dKnHXitEK",
        "colab_type": "text"
      },
      "source": [
        "## Task 2: Judge the predictive power of the model\n",
        "\n",
        "Look at the preceding table. How close is the predicted value to the label value?  In other words, does your model accurately predict house values? \n",
        "\n",
        "sol:\n",
        "```\n",
        "# Most of the predicted values differ significantly\n",
        "# from the label value, so the trained model probably \n",
        "# doesn't have much predictive power. However, the\n",
        "# first 20 examples might not be representative of \n",
        "# the rest of the examples. \n",
        "```"
      ]
    },
    {
      "cell_type": "markdown",
      "metadata": {
        "id": "GiE5nqdnjHLm",
        "colab_type": "text"
      },
      "source": [
        "## Task 3: Try a different feature\n",
        "\n",
        "The `total_rooms` feature had only a little predictive power. Would a different feature have greater predictive power?  Try using `population` as the feature instead of `total_rooms`. \n",
        "\n",
        "Note: When you change features, you might also need to change the hyperparameters."
      ]
    },
    {
      "cell_type": "code",
      "metadata": {
        "id": "pbLEYgQCg_Xk",
        "colab_type": "code",
        "colab": {
          "base_uri": "https://localhost:8080/",
          "height": 971
        },
        "outputId": "6a4d0777-509e-4d8f-8710-59cfc5690162"
      },
      "source": [
        "feature = \"population\"   # Replace the ? with population or possibly\n",
        "                   # a different column name.\n",
        "\n",
        "# Experiment with the hyperparameters.\n",
        "learning_rate = 2\n",
        "epochs = 3\n",
        "batch_size = 120\n",
        "\n",
        "# Don't change anything below this line.\n",
        "model = build_model(learning_rate)\n",
        "weight, bias, epochs, rmse = train_model(model, df, \n",
        "                                         feature, label,\n",
        "                                         epochs, batch_size)\n",
        "plot_the_model(weight, bias, feature, label)\n",
        "plot_the_loss_curve(epochs, rmse)\n",
        "\n",
        "predict_house_values(15, feature, label)"
      ],
      "execution_count": 54,
      "outputs": [
        {
          "output_type": "stream",
          "text": [
            "Epoch 1/3\n",
            "142/142 [==============================] - 0s 968us/step - loss: 3390443.0000 - root_mean_squared_error: 1841.3156\n",
            "Epoch 2/3\n",
            "142/142 [==============================] - 0s 957us/step - loss: 3073934.2500 - root_mean_squared_error: 1753.2639\n",
            "Epoch 3/3\n",
            "142/142 [==============================] - 0s 935us/step - loss: 3126915.2500 - root_mean_squared_error: 1768.3086\n"
          ],
          "name": "stdout"
        },
        {
          "output_type": "display_data",
          "data": {
            "image/png": "[encoded data removed]",
            "text/plain": [
              "<Figure size 432x288 with 1 Axes>"
            ]
          },
          "metadata": {
            "tags": [],
            "needs_background": "light"
          }
        },
        {
          "output_type": "display_data",
          "data": {
            "image/png": "[encoded data removed]",
            "text/plain": [
              "<Figure size 432x288 with 1 Axes>"
            ]
          },
          "metadata": {
            "tags": [],
            "needs_background": "light"
          }
        },
        {
          "output_type": "stream",
          "text": [
            "feature value      label value       predicted value\n",
            "                   in thousand$      in thousand$\n",
            "---------------------------------------------------\n",
            " 1286     53            -299\n",
            " 1867     92            -454\n",
            " 2191     69            -540\n",
            " 1052     62            -237\n",
            " 1647     80            -395\n",
            " 2312    295            -572\n",
            " 1604    500            -384\n",
            " 1066    342            -241\n",
            "  338    118             -47\n",
            " 1604    128            -384\n",
            " 1200    187            -276\n",
            "  292     80             -35\n",
            " 2014    112            -493\n",
            " 1817     95            -440\n",
            " 1328     69            -310\n"
          ],
          "name": "stdout"
        }
      ]
    },
    {
      "cell_type": "markdown",
      "metadata": {
        "id": "0FH7Lz0zj3ap",
        "colab_type": "text"
      },
      "source": [
        "Did `population` produce better predictions than `total_rooms`?\n",
        "\n",
        "```\n",
        "# Training is not entirely deterministic, but population \n",
        "# typically converges at a slightly higher RMSE than \n",
        "# total_rooms.  So, population appears to be about \n",
        "# the same or slightly worse at making predictions \n",
        "# than total_rooms.\n",
        "```"
      ]
    },
    {
      "cell_type": "markdown",
      "metadata": {
        "id": "d9iWjUc0kV5m",
        "colab_type": "text"
      },
      "source": [
        "## Task 4: Define a synthetic feature\n",
        "\n",
        "1.   List item\n",
        "2.   List item\n",
        "\n",
        "\n",
        "\n",
        "You have determined that `total_rooms` and `population` were not useful features.  That is, neither the total number of rooms in a neighborhood nor the neighborhood's population successfully predicted the median house price of that neighborhood. Perhaps though, the *ratio* of `total_rooms` to `population` might have some predictive power. That is, perhaps block density relates to median house value.\n",
        "\n",
        "To explore this hypothesis, do the following: \n",
        "\n",
        "1. Create a [synthetic feature](https://developers.google.com/machine-learning/glossary/#synthetic_feature) that's a ratio of `total_rooms` to `population`. (If you are new to pandas DataFrames, please study the [Pandas DataFrame Ultraquick Tutorial](https://colab.research.google.com/github/google/eng-edu/blob/master/ml/cc/exercises/pandas_dataframe_ultraquick_tutorial.ipynb?utm_source=linearregressionreal-colab&utm_medium=colab&utm_campaign=colab-external&utm_content=pandas_tf2-colab&hl=en).)\n",
        "2. Tune the three hyperparameters.\n",
        "3. Determine whether this synthetic feature produces \n",
        "   a lower loss value than any of the single features you \n",
        "   tried earlier in this exercise."
      ]
    },
    {
      "cell_type": "code",
      "metadata": {
        "id": "GNZDtiGGkBJB",
        "colab_type": "code",
        "colab": {
          "base_uri": "https://localhost:8080/",
          "height": 1000
        },
        "outputId": "ad270c8e-d0b6-4977-d542-522293fa18f6"
      },
      "source": [
        "# Define a synthetic feature\n",
        "df[\"rooms_per_person\"] = df[\"total_rooms\"] / df[\"population\"]\n",
        "feature = \"rooms_per_person\"\n",
        "\n",
        "# Tune the hyperparameters.\n",
        "learning_rate = 0.06\n",
        "epochs = 24\n",
        "batch_size = 30\n",
        "\n",
        "# Don't change anything below this line.\n",
        "model = build_model(learning_rate)\n",
        "weight, bias, epochs, mae = train_model(model, df,\n",
        "                                        feature, label,\n",
        "                                        epochs, batch_size)\n",
        "\n",
        "plot_the_loss_curve(epochs, mae)\n",
        "predict_house_values(15, feature, label)"
      ],
      "execution_count": 55,
      "outputs": [
        {
          "output_type": "stream",
          "text": [
            "Epoch 1/24\n",
            "567/567 [==============================] - 1s 902us/step - loss: 38492.8438 - root_mean_squared_error: 196.1959\n",
            "Epoch 2/24\n",
            "567/567 [==============================] - 1s 916us/step - loss: 18976.4863 - root_mean_squared_error: 137.7552\n",
            "Epoch 3/24\n",
            "567/567 [==============================] - 1s 908us/step - loss: 15087.8096 - root_mean_squared_error: 122.8324\n",
            "Epoch 4/24\n",
            "567/567 [==============================] - 1s 896us/step - loss: 14916.7920 - root_mean_squared_error: 122.1343\n",
            "Epoch 5/24\n",
            "567/567 [==============================] - 1s 912us/step - loss: 14655.4062 - root_mean_squared_error: 121.0595\n",
            "Epoch 6/24\n",
            "567/567 [==============================] - 1s 887us/step - loss: 14520.3594 - root_mean_squared_error: 120.5005\n",
            "Epoch 7/24\n",
            "567/567 [==============================] - 1s 905us/step - loss: 14355.7559 - root_mean_squared_error: 119.8155\n",
            "Epoch 8/24\n",
            "567/567 [==============================] - 1s 906us/step - loss: 14238.1250 - root_mean_squared_error: 119.3236\n",
            "Epoch 9/24\n",
            "567/567 [==============================] - 1s 911us/step - loss: 14085.0293 - root_mean_squared_error: 118.6804\n",
            "Epoch 10/24\n",
            "567/567 [==============================] - 0s 873us/step - loss: 13998.3203 - root_mean_squared_error: 118.3145\n",
            "Epoch 11/24\n",
            "567/567 [==============================] - 1s 903us/step - loss: 13881.3252 - root_mean_squared_error: 117.8190\n",
            "Epoch 12/24\n",
            "567/567 [==============================] - 1s 907us/step - loss: 13877.1191 - root_mean_squared_error: 117.8012\n",
            "Epoch 13/24\n",
            "567/567 [==============================] - 1s 923us/step - loss: 13810.7900 - root_mean_squared_error: 117.5193\n",
            "Epoch 14/24\n",
            "567/567 [==============================] - 1s 910us/step - loss: 13687.0508 - root_mean_squared_error: 116.9917\n",
            "Epoch 15/24\n",
            "567/567 [==============================] - 1s 948us/step - loss: 13678.6758 - root_mean_squared_error: 116.9559\n",
            "Epoch 16/24\n",
            "567/567 [==============================] - 1s 907us/step - loss: 13650.4424 - root_mean_squared_error: 116.8351\n",
            "Epoch 17/24\n",
            "567/567 [==============================] - 1s 896us/step - loss: 13634.0645 - root_mean_squared_error: 116.7650\n",
            "Epoch 18/24\n",
            "567/567 [==============================] - 1s 897us/step - loss: 13556.7021 - root_mean_squared_error: 116.4333\n",
            "Epoch 19/24\n",
            "567/567 [==============================] - 1s 897us/step - loss: 13568.5645 - root_mean_squared_error: 116.4842\n",
            "Epoch 20/24\n",
            "567/567 [==============================] - 1s 891us/step - loss: 13535.1084 - root_mean_squared_error: 116.3405\n",
            "Epoch 21/24\n",
            "567/567 [==============================] - 1s 923us/step - loss: 13481.6562 - root_mean_squared_error: 116.1105\n",
            "Epoch 22/24\n",
            "567/567 [==============================] - 1s 935us/step - loss: 13450.5547 - root_mean_squared_error: 115.9765\n",
            "Epoch 23/24\n",
            "567/567 [==============================] - 1s 931us/step - loss: 13432.5508 - root_mean_squared_error: 115.8989\n",
            "Epoch 24/24\n",
            "567/567 [==============================] - 1s 903us/step - loss: 13403.8408 - root_mean_squared_error: 115.7750\n"
          ],
          "name": "stdout"
        },
        {
          "output_type": "display_data",
          "data": {
            "image/png": "[encoded data removed]",
            "text/plain": [
              "<Figure size 432x288 with 1 Axes>"
            ]
          },
          "metadata": {
            "tags": [],
            "needs_background": "light"
          }
        },
        {
          "output_type": "stream",
          "text": [
            "feature value      label value       predicted value\n",
            "                   in thousand$      in thousand$\n",
            "---------------------------------------------------\n",
            "    2     53             188\n",
            "    2     92             200\n",
            "    2     69             195\n",
            "    2     62             211\n",
            "    1     80             186\n",
            "    2    295             225\n",
            "    2    500             210\n",
            "    2    342             223\n",
            "    4    118             288\n",
            "    2    128             214\n",
            "    2    187             224\n",
            "    3     80             234\n",
            "    2    112             225\n",
            "    2     95             219\n",
            "    2     69             210\n"
          ],
          "name": "stdout"
        }
      ]
    },
    {
      "cell_type": "markdown",
      "metadata": {
        "id": "5G_1oWvSlCxo",
        "colab_type": "text"
      },
      "source": [
        "Based on the loss values, this synthetic feature produces a better model than the individual features you tried in Task 2 and Task 3. However, the model still isn't creating great predictions."
      ]
    },
    {
      "cell_type": "markdown",
      "metadata": {
        "id": "nAh_6D8ilTra",
        "colab_type": "text"
      },
      "source": [
        "## Task 5. Find feature(s) whose raw values correlate with the label\n",
        "\n",
        "So far, we've relied on trial-and-error to identify possible features for the model.  Let's rely on statistics instead.\n",
        "\n",
        "A **correlation matrix** indicates how each attribute's raw values relate to the other attributes' raw values. Correlation values have the following meanings:\n",
        "\n",
        "  * `1.0`: perfect positive correlation; that is, when one attribute rises, the other attribute rises.\n",
        "  * `-1.0`: perfect negative correlation; that is, when one attribute rises, the other attribute falls. \n",
        "  * `0.0`: no correlation; the two column's [are not linearly related](https://en.wikipedia.org/wiki/Correlation_and_dependence#/media/File:Correlation_examples2.svg).\n",
        "\n",
        "In general, the higher the absolute value of a correlation value, the greater its predictive power. For example, a correlation value of -0.8 implies far more predictive power than a correlation of -0.2."
      ]
    },
    {
      "cell_type": "code",
      "metadata": {
        "id": "l9bL9CMLlDrn",
        "colab_type": "code",
        "colab": {
          "base_uri": "https://localhost:8080/",
          "height": 379
        },
        "outputId": "f42d71e1-fc7a-4f98-ad62-db2edfc6a05c"
      },
      "source": [
        "# generate correlation matrix\n",
        "\n",
        "df.corr()"
      ],
      "execution_count": 56,
      "outputs": [
        {
          "output_type": "execute_result",
          "data": {
            "text/html": [
              "<div>\n",
              "<style scoped>\n",
              "    .dataframe tbody tr th:only-of-type {\n",
              "        vertical-align: middle;\n",
              "    }\n",
              "\n",
              "    .dataframe tbody tr th {\n",
              "        vertical-align: top;\n",
              "    }\n",
              "\n",
              "    .dataframe thead th {\n",
              "        text-align: right;\n",
              "    }\n",
              "</style>\n",
              "<table border=\"1\" class=\"dataframe\">\n",
              "  <thead>\n",
              "    <tr style=\"text-align: right;\">\n",
              "      <th></th>\n",
              "      <th>longitude</th>\n",
              "      <th>latitude</th>\n",
              "      <th>housing_median_age</th>\n",
              "      <th>total_rooms</th>\n",
              "      <th>total_bedrooms</th>\n",
              "      <th>population</th>\n",
              "      <th>households</th>\n",
              "      <th>median_income</th>\n",
              "      <th>median_house_value</th>\n",
              "      <th>rooms_per_person</th>\n",
              "    </tr>\n",
              "  </thead>\n",
              "  <tbody>\n",
              "    <tr>\n",
              "      <th>longitude</th>\n",
              "      <td>1.000000</td>\n",
              "      <td>-0.925208</td>\n",
              "      <td>-0.114250</td>\n",
              "      <td>0.047010</td>\n",
              "      <td>0.071802</td>\n",
              "      <td>0.101674</td>\n",
              "      <td>0.059628</td>\n",
              "      <td>-0.015485</td>\n",
              "      <td>-0.044982</td>\n",
              "      <td>-0.077773</td>\n",
              "    </tr>\n",
              "    <tr>\n",
              "      <th>latitude</th>\n",
              "      <td>-0.925208</td>\n",
              "      <td>1.000000</td>\n",
              "      <td>0.016454</td>\n",
              "      <td>-0.038773</td>\n",
              "      <td>-0.069373</td>\n",
              "      <td>-0.111261</td>\n",
              "      <td>-0.074902</td>\n",
              "      <td>-0.080303</td>\n",
              "      <td>-0.144917</td>\n",
              "      <td>0.143017</td>\n",
              "    </tr>\n",
              "    <tr>\n",
              "      <th>housing_median_age</th>\n",
              "      <td>-0.114250</td>\n",
              "      <td>0.016454</td>\n",
              "      <td>1.000000</td>\n",
              "      <td>-0.360984</td>\n",
              "      <td>-0.320434</td>\n",
              "      <td>-0.295890</td>\n",
              "      <td>-0.302754</td>\n",
              "      <td>-0.115932</td>\n",
              "      <td>0.106758</td>\n",
              "      <td>-0.103655</td>\n",
              "    </tr>\n",
              "    <tr>\n",
              "      <th>total_rooms</th>\n",
              "      <td>0.047010</td>\n",
              "      <td>-0.038773</td>\n",
              "      <td>-0.360984</td>\n",
              "      <td>1.000000</td>\n",
              "      <td>0.928403</td>\n",
              "      <td>0.860170</td>\n",
              "      <td>0.919018</td>\n",
              "      <td>0.195383</td>\n",
              "      <td>0.130991</td>\n",
              "      <td>0.121001</td>\n",
              "    </tr>\n",
              "    <tr>\n",
              "      <th>total_bedrooms</th>\n",
              "      <td>0.071802</td>\n",
              "      <td>-0.069373</td>\n",
              "      <td>-0.320434</td>\n",
              "      <td>0.928403</td>\n",
              "      <td>1.000000</td>\n",
              "      <td>0.881169</td>\n",
              "      <td>0.980920</td>\n",
              "      <td>-0.013495</td>\n",
              "      <td>0.045783</td>\n",
              "      <td>0.047811</td>\n",
              "    </tr>\n",
              "    <tr>\n",
              "      <th>population</th>\n",
              "      <td>0.101674</td>\n",
              "      <td>-0.111261</td>\n",
              "      <td>-0.295890</td>\n",
              "      <td>0.860170</td>\n",
              "      <td>0.881169</td>\n",
              "      <td>1.000000</td>\n",
              "      <td>0.909247</td>\n",
              "      <td>-0.000638</td>\n",
              "      <td>-0.027850</td>\n",
              "      <td>-0.140277</td>\n",
              "    </tr>\n",
              "    <tr>\n",
              "      <th>households</th>\n",
              "      <td>0.059628</td>\n",
              "      <td>-0.074902</td>\n",
              "      <td>-0.302754</td>\n",
              "      <td>0.919018</td>\n",
              "      <td>0.980920</td>\n",
              "      <td>0.909247</td>\n",
              "      <td>1.000000</td>\n",
              "      <td>0.007644</td>\n",
              "      <td>0.061031</td>\n",
              "      <td>-0.034049</td>\n",
              "    </tr>\n",
              "    <tr>\n",
              "      <th>median_income</th>\n",
              "      <td>-0.015485</td>\n",
              "      <td>-0.080303</td>\n",
              "      <td>-0.115932</td>\n",
              "      <td>0.195383</td>\n",
              "      <td>-0.013495</td>\n",
              "      <td>-0.000638</td>\n",
              "      <td>0.007644</td>\n",
              "      <td>1.000000</td>\n",
              "      <td>0.691871</td>\n",
              "      <td>0.232667</td>\n",
              "    </tr>\n",
              "    <tr>\n",
              "      <th>median_house_value</th>\n",
              "      <td>-0.044982</td>\n",
              "      <td>-0.144917</td>\n",
              "      <td>0.106758</td>\n",
              "      <td>0.130991</td>\n",
              "      <td>0.045783</td>\n",
              "      <td>-0.027850</td>\n",
              "      <td>0.061031</td>\n",
              "      <td>0.691871</td>\n",
              "      <td>1.000000</td>\n",
              "      <td>0.206969</td>\n",
              "    </tr>\n",
              "    <tr>\n",
              "      <th>rooms_per_person</th>\n",
              "      <td>-0.077773</td>\n",
              "      <td>0.143017</td>\n",
              "      <td>-0.103655</td>\n",
              "      <td>0.121001</td>\n",
              "      <td>0.047811</td>\n",
              "      <td>-0.140277</td>\n",
              "      <td>-0.034049</td>\n",
              "      <td>0.232667</td>\n",
              "      <td>0.206969</td>\n",
              "      <td>1.000000</td>\n",
              "    </tr>\n",
              "  </tbody>\n",
              "</table>\n",
              "</div>"
            ],
            "text/plain": [
              "                    longitude  latitude  ...  median_house_value  rooms_per_person\n",
              "longitude            1.000000 -0.925208  ...           -0.044982         -0.077773\n",
              "latitude            -0.925208  1.000000  ...           -0.144917          0.143017\n",
              "housing_median_age  -0.114250  0.016454  ...            0.106758         -0.103655\n",
              "total_rooms          0.047010 -0.038773  ...            0.130991          0.121001\n",
              "total_bedrooms       0.071802 -0.069373  ...            0.045783          0.047811\n",
              "population           0.101674 -0.111261  ...           -0.027850         -0.140277\n",
              "households           0.059628 -0.074902  ...            0.061031         -0.034049\n",
              "median_income       -0.015485 -0.080303  ...            0.691871          0.232667\n",
              "median_house_value  -0.044982 -0.144917  ...            1.000000          0.206969\n",
              "rooms_per_person    -0.077773  0.143017  ...            0.206969          1.000000\n",
              "\n",
              "[10 rows x 10 columns]"
            ]
          },
          "metadata": {
            "tags": []
          },
          "execution_count": 56
        }
      ]
    },
    {
      "cell_type": "markdown",
      "metadata": {
        "id": "ytZRkCUllvgd",
        "colab_type": "text"
      },
      "source": [
        "A strong negative correlation or strong positive correlation with the label suggests a potentially good feature.\n",
        "\n",
        "**Your Task:** Determine which of the nine potential features appears to be the best candidate for a feature?\n",
        "\n",
        "```\n",
        "# The `median_income` correlates 0.7 with the label \n",
        "# (median_house_value), so median_income` might be a \n",
        "# good feature. The other seven potential features\n",
        "# all have a correlation relatively close to 0. \n",
        "# If time permits, try median_income as the feature\n",
        "# and see whether the model improves\n",
        "\n",
        "```\n",
        "\n",
        "**Note:** Using `median_income` as a feature may raise some ethical and fairness\n",
        "issues"
      ]
    },
    {
      "cell_type": "code",
      "metadata": {
        "id": "yV07FcrqlY3j",
        "colab_type": "code",
        "colab": {}
      },
      "source": [
        ""
      ],
      "execution_count": 0,
      "outputs": []
    }
  ]
}