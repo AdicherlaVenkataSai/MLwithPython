{
  "nbformat": 4,
  "nbformat_minor": 0,
  "metadata": {
    "colab": {
      "name": "2. Pandas tutorial.ipynb",
      "provenance": [],
      "authorship_tag": "ABX9TyO6KN0Ig1VvG0POQPC9GODo",
      "include_colab_link": true
    },
    "kernelspec": {
      "name": "python3",
      "display_name": "Python 3"
    }
  },
  "cells": [
    {
      "cell_type": "markdown",
      "metadata": {
        "id": "view-in-github",
        "colab_type": "text"
      },
      "source": [
        "<a href=\"https://colab.research.google.com/github/AdicherlaVenkataSai/GooglecrashML/blob/master/2.%20Pandas_tutorial.ipynb\" target=\"_parent\"><img src=\"https://colab.research.google.com/assets/colab-badge.svg\" alt=\"Open In Colab\"/></a>"
      ]
    },
    {
      "cell_type": "markdown",
      "metadata": {
        "id": "dgSDcJV_VvVb",
        "colab_type": "text"
      },
      "source": [
        "A DataFrame is similar to an in-memory spreadsheet. Like a spreadsheet:\n",
        "\n",
        "  * A DataFrame stores data in cells. \n",
        "  * A DataFrame has named columns (usually) and numbered rows."
      ]
    },
    {
      "cell_type": "code",
      "metadata": {
        "id": "m1bPj-4XTHGk",
        "colab_type": "code",
        "colab": {}
      },
      "source": [
        "import numpy as np\n",
        "import pandas as pd"
      ],
      "execution_count": 0,
      "outputs": []
    },
    {
      "cell_type": "markdown",
      "metadata": {
        "id": "tqbhdJGFWibb",
        "colab_type": "text"
      },
      "source": [
        "## Creating a DataFrame\n",
        "\n",
        "The following code cell creates a simple DataFrame containing 10 cells organized as follows:\n",
        "\n",
        "  * 3 rows\n",
        "  * 2 columns, one named `age` and the other named `tooth`\n",
        "\n",
        "The following code cell instantiates a `pd.DataFrame` class to generate a DataFrame. The class takes two arguments:\n",
        "\n",
        "  * The first argument provides the data to populate the 10 cells. The code cell calls `np.array` to generate the 5x2 NumPy array.\n",
        "  * The second argument identifies the names of the two columns."
      ]
    },
    {
      "cell_type": "code",
      "metadata": {
        "id": "0KVrCPZeV3Mn",
        "colab_type": "code",
        "outputId": "cea31978-c4d4-4073-bc7e-d0c7477bce0b",
        "colab": {
          "base_uri": "https://localhost:8080/",
          "height": 142
        }
      },
      "source": [
        "#creating a numpy array 3*2\n",
        "data = np.array([[10,15],[13,14],[16,18]])\n",
        "\n",
        "#creating a python lists that holds the names of the 2 cols\n",
        "cols = ['age', 'tooth']\n",
        "\n",
        "#creating a datafram\n",
        "df = pd.DataFrame(data = data, columns = cols)\n",
        "\n",
        "#print the entire dataframe\n",
        "df# print(df)"
      ],
      "execution_count": 0,
      "outputs": [
        {
          "output_type": "execute_result",
          "data": {
            "text/html": [
              "<div>\n",
              "<style scoped>\n",
              "    .dataframe tbody tr th:only-of-type {\n",
              "        vertical-align: middle;\n",
              "    }\n",
              "\n",
              "    .dataframe tbody tr th {\n",
              "        vertical-align: top;\n",
              "    }\n",
              "\n",
              "    .dataframe thead th {\n",
              "        text-align: right;\n",
              "    }\n",
              "</style>\n",
              "<table border=\"1\" class=\"dataframe\">\n",
              "  <thead>\n",
              "    <tr style=\"text-align: right;\">\n",
              "      <th></th>\n",
              "      <th>age</th>\n",
              "      <th>tooth</th>\n",
              "    </tr>\n",
              "  </thead>\n",
              "  <tbody>\n",
              "    <tr>\n",
              "      <th>0</th>\n",
              "      <td>10</td>\n",
              "      <td>15</td>\n",
              "    </tr>\n",
              "    <tr>\n",
              "      <th>1</th>\n",
              "      <td>13</td>\n",
              "      <td>14</td>\n",
              "    </tr>\n",
              "    <tr>\n",
              "      <th>2</th>\n",
              "      <td>16</td>\n",
              "      <td>18</td>\n",
              "    </tr>\n",
              "  </tbody>\n",
              "</table>\n",
              "</div>"
            ],
            "text/plain": [
              "   age  tooth\n",
              "0   10     15\n",
              "1   13     14\n",
              "2   16     18"
            ]
          },
          "metadata": {
            "tags": []
          },
          "execution_count": 4
        }
      ]
    },
    {
      "cell_type": "markdown",
      "metadata": {
        "id": "chEjQra_tNWd",
        "colab_type": "text"
      },
      "source": [
        ""
      ]
    },
    {
      "cell_type": "markdown",
      "metadata": {
        "id": "j73ZXrtJXWsI",
        "colab_type": "text"
      },
      "source": [
        "## Adding a new column to a DataFrame\n",
        "\n",
        "You may add a new column to an existing pandas DataFrame just by assigning values to a new column name"
      ]
    },
    {
      "cell_type": "code",
      "metadata": {
        "id": "U4xFzm5MWPQ5",
        "colab_type": "code",
        "outputId": "7fb3bb13-7a40-4e89-952d-6eb4e1d5178a",
        "colab": {
          "base_uri": "https://localhost:8080/",
          "height": 142
        }
      },
      "source": [
        "#creating a new column named expected_teeth\n",
        "#as i know the number of people in age var , 3\n",
        "for i in range(3):\n",
        "\n",
        "  if( df['age'][i] >= 10):\n",
        "    df['expected_teeth'] = df['tooth'] + 2\n",
        "  else:\n",
        "    df['expected_teeth'] = df['tooth'] + 0\n",
        "\n",
        "df\n",
        "\n",
        "   \n",
        "\n"
      ],
      "execution_count": 0,
      "outputs": [
        {
          "output_type": "execute_result",
          "data": {
            "text/html": [
              "<div>\n",
              "<style scoped>\n",
              "    .dataframe tbody tr th:only-of-type {\n",
              "        vertical-align: middle;\n",
              "    }\n",
              "\n",
              "    .dataframe tbody tr th {\n",
              "        vertical-align: top;\n",
              "    }\n",
              "\n",
              "    .dataframe thead th {\n",
              "        text-align: right;\n",
              "    }\n",
              "</style>\n",
              "<table border=\"1\" class=\"dataframe\">\n",
              "  <thead>\n",
              "    <tr style=\"text-align: right;\">\n",
              "      <th></th>\n",
              "      <th>age</th>\n",
              "      <th>tooth</th>\n",
              "      <th>expected_teeth</th>\n",
              "    </tr>\n",
              "  </thead>\n",
              "  <tbody>\n",
              "    <tr>\n",
              "      <th>0</th>\n",
              "      <td>10</td>\n",
              "      <td>15</td>\n",
              "      <td>15</td>\n",
              "    </tr>\n",
              "    <tr>\n",
              "      <th>1</th>\n",
              "      <td>13</td>\n",
              "      <td>14</td>\n",
              "      <td>14</td>\n",
              "    </tr>\n",
              "    <tr>\n",
              "      <th>2</th>\n",
              "      <td>16</td>\n",
              "      <td>18</td>\n",
              "      <td>18</td>\n",
              "    </tr>\n",
              "  </tbody>\n",
              "</table>\n",
              "</div>"
            ],
            "text/plain": [
              "   age  tooth  expected_teeth\n",
              "0   10     15              15\n",
              "1   13     14              14\n",
              "2   16     18              18"
            ]
          },
          "metadata": {
            "tags": []
          },
          "execution_count": 13
        }
      ]
    },
    {
      "cell_type": "markdown",
      "metadata": {
        "id": "IGh8EgP6ZqYm",
        "colab_type": "text"
      },
      "source": [
        "## Specifying a subset of a DataFrame\n",
        "\n",
        "Pandas provide multiples ways to isolate specific rows, columns, slices or cells in a DataFrame. "
      ]
    },
    {
      "cell_type": "code",
      "metadata": {
        "id": "xUKeLF6CYCe3",
        "colab_type": "code",
        "outputId": "cdbfa2ed-21b2-4cb9-f01e-77c97fb32801",
        "colab": {
          "base_uri": "https://localhost:8080/",
          "height": 374
        }
      },
      "source": [
        "print(\"#rows #0, #1, and #2:\")\n",
        "print(df.head(3), '\\n')\n",
        "\n",
        "print('row #2:')\n",
        "print(df.iloc[[2]],'\\n')\n",
        "\n",
        "print('rows #1, #2, and #3:')\n",
        "print(df[1:4], '\\n')#excluding 4\n",
        "\n",
        "print(\"column - 'age' :\")\n",
        "print(df['age'],'\\n')"
      ],
      "execution_count": 0,
      "outputs": [
        {
          "output_type": "stream",
          "text": [
            "#rows #0, #1, and #2:\n",
            "   age  tooth  expected_teeth\n",
            "0   10     15              15\n",
            "1   13     14              14\n",
            "2   16     18              18 \n",
            "\n",
            "row #2:\n",
            "   age  tooth  expected_teeth\n",
            "2   16     18              18 \n",
            "\n",
            "rows #1, #2, and #3:\n",
            "   age  tooth  expected_teeth\n",
            "1   13     14              14\n",
            "2   16     18              18 \n",
            "\n",
            "column - 'age' :\n",
            "0    10\n",
            "1    13\n",
            "2    16\n",
            "Name: age, dtype: int64 \n",
            "\n"
          ],
          "name": "stdout"
        }
      ]
    },
    {
      "cell_type": "code",
      "metadata": {
        "id": "nm9x0usaaoCT",
        "colab_type": "code",
        "outputId": "9977b99e-394e-4447-d075-b644ecc96d11",
        "colab": {
          "base_uri": "https://localhost:8080/",
          "height": 221
        }
      },
      "source": [
        "data = np.random.randint(low =0, high= 100, size = (3, 4))\n",
        "\n",
        "cols = ['Eleanor', 'Chidi', 'Tahani','Jason']\n",
        "\n",
        "df1 = pd.DataFrame(data = data, columns = cols)\n",
        "\n",
        "print(df1)\n",
        "print(df1['Eleanor'])\n",
        "\n",
        "df1['Janet'] = df1['Tahani'] + df1['Jason']\n",
        "print(df1)"
      ],
      "execution_count": 0,
      "outputs": [
        {
          "output_type": "stream",
          "text": [
            "   Eleanor  Chidi  Tahani  Jason\n",
            "0        5     86      72     63\n",
            "1       12     31      90     30\n",
            "2       21     33       9     40\n",
            "0     5\n",
            "1    12\n",
            "2    21\n",
            "Name: Eleanor, dtype: int64\n",
            "   Eleanor  Chidi  Tahani  Jason  Janet\n",
            "0        5     86      72     63    135\n",
            "1       12     31      90     30    120\n",
            "2       21     33       9     40     49\n"
          ],
          "name": "stdout"
        }
      ]
    },
    {
      "cell_type": "markdown",
      "metadata": {
        "id": "IpRhgiogj02d",
        "colab_type": "text"
      },
      "source": [
        "## Copying a DataFrame (optional)\n",
        "\n",
        "Pandas provides two different ways to duplicate a DataFrame:\n",
        "\n",
        "* **Referencing.** If you assign a DataFrame to a new variable, any change to the DataFrame or to the new variable will be reflected in the other. \n",
        "* **Copying.** If you call the `pd.DataFrame.copy` method, you create a true independent copy.  Changes to the original DataFrame or to the copy will not be reflected in the other. \n",
        "\n",
        "The difference is subtle, but important"
      ]
    },
    {
      "cell_type": "code",
      "metadata": {
        "id": "1TBZMyYRbsm9",
        "colab_type": "code",
        "outputId": "b50ccd75-87da-40ce-b4a0-5d374014f760",
        "colab": {
          "base_uri": "https://localhost:8080/",
          "height": 255
        }
      },
      "source": [
        "# creating a reference by assign df to a new variable\n",
        "print('exeperiment with a reference')\n",
        "df_ref = df1\n",
        "\n",
        "#printing the starting vales of a particular cell\n",
        "print('starting vales of df: %d' % df1['Jason'][1])\n",
        "print(\"  Starting value of df_ref: %d\\n\" % df_ref['Jason'][1])\n",
        "\n",
        "\n",
        "#modify a cell in df1\n",
        "df1.at[1, 'Jason'] = df1['Jason'][1] + 15\n",
        "print(\"  Updated df: %d\" % df1['Jason'][1])\n",
        "print(\"  Updated reference_to_df: %d\\n\\n\" % df_ref['Jason'][1])\n",
        "\n",
        "\n",
        "#creating a true copy of dataframe\n",
        "print(\"Experiment with a true copy:\")\n",
        "copy_of_my_dataframe = df.copy()\n",
        "\n",
        "\n",
        "# Print the starting value of a particular cell.\n",
        "print(\"  Starting value of my_dataframe: %d\" % df['tooth'][1])\n",
        "print(\"  Starting value of copy_of_my_dataframe: %d\\n\" % copy_of_my_dataframe['tooth'][1])\n",
        "\n",
        "# Modify a cell in df.\n",
        "df.at[1, 'tooth'] = df['tooth'][1] + 3\n",
        "print(\"  Updated my_dataframe: %d\" % df['tooth'][1])\n",
        "print(\"  copy_of_my_dataframe does not get updated: %d\" % copy_of_my_dataframe['tooth'][1])"
      ],
      "execution_count": 0,
      "outputs": [
        {
          "output_type": "stream",
          "text": [
            "exeperiment with a reference\n",
            "starting vales of df: 95\n",
            "  Starting value of df_ref: 95\n",
            "\n",
            "  Updated df: 110\n",
            "  Updated reference_to_df: 110\n",
            "\n",
            "\n",
            "Experiment with a true copy:\n",
            "  Starting value of my_dataframe: 14\n",
            "  Starting value of copy_of_my_dataframe: 14\n",
            "\n",
            "  Updated my_dataframe: 17\n",
            "  copy_of_my_dataframe does not get updated: 14\n"
          ],
          "name": "stdout"
        }
      ]
    },
    {
      "cell_type": "code",
      "metadata": {
        "id": "hEc-QICMo5JC",
        "colab_type": "code",
        "colab": {}
      },
      "source": [
        ""
      ],
      "execution_count": 0,
      "outputs": []
    }
  ]
}