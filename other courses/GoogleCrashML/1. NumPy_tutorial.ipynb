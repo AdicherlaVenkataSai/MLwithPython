{
  "nbformat": 4,
  "nbformat_minor": 0,
  "metadata": {
    "colab": {
      "name": "1. NumPy tutorial.ipynb",
      "provenance": [],
      "collapsed_sections": [],
      "authorship_tag": "ABX9TyOEMZUGO8C+Lr59a9ntbLv9",
      "include_colab_link": true
    },
    "kernelspec": {
      "name": "python3",
      "display_name": "Python 3"
    }
  },
  "cells": [
    {
      "cell_type": "markdown",
      "metadata": {
        "id": "view-in-github",
        "colab_type": "text"
      },
      "source": [
        "<a href=\"https://colab.research.google.com/github/AdicherlaVenkataSai/GooglecrashML/blob/master/1.%20NumPy_tutorial.ipynb\" target=\"_parent\"><img src=\"https://colab.research.google.com/assets/colab-badge.svg\" alt=\"Open In Colab\"/></a>"
      ]
    },
    {
      "cell_type": "code",
      "metadata": {
        "id": "rwgiT5TvDU7a",
        "colab_type": "code",
        "colab": {}
      },
      "source": [
        "'''\n",
        "NumPy is a Python library for creating and manipulating \n",
        "vectors and matrices\n",
        "'''\n",
        "\n",
        "import numpy as np"
      ],
      "execution_count": 0,
      "outputs": []
    },
    {
      "cell_type": "code",
      "metadata": {
        "id": "P6kFKcUsDWTE",
        "colab_type": "code",
        "outputId": "975191f1-1f0b-43b5-9809-2379e2792ce6",
        "colab": {
          "base_uri": "https://localhost:8080/",
          "height": 68
        }
      },
      "source": [
        "'''\n",
        "np.array is to create a NumPy matix (1/2d..)\n",
        "'''\n",
        "one_D_array = np.array([1,2,3,4,5])\n",
        "print(one_D_array)\n",
        "\n",
        "two_D_array = np.array([[1,2,3,4,5],[6,7,8,9,10]])\n",
        "print(two_D_array)"
      ],
      "execution_count": 0,
      "outputs": [
        {
          "output_type": "stream",
          "text": [
            "[1 2 3 4 5]\n",
            "[[ 1  2  3  4  5]\n",
            " [ 6  7  8  9 10]]\n"
          ],
          "name": "stdout"
        }
      ]
    },
    {
      "cell_type": "code",
      "metadata": {
        "id": "dHXDlKueLBtk",
        "colab_type": "code",
        "outputId": "a38476a5-5865-4c91-894c-d848e1de20c4",
        "colab": {
          "base_uri": "https://localhost:8080/",
          "height": 34
        }
      },
      "source": [
        "'''\n",
        "to populate matrix with all zeros call np.zeros, all ones np.ones\n",
        "'''\n",
        "m = np.ones([])\n",
        "m"
      ],
      "execution_count": 0,
      "outputs": [
        {
          "output_type": "execute_result",
          "data": {
            "text/plain": [
              "array(1.)"
            ]
          },
          "metadata": {
            "tags": []
          },
          "execution_count": 8
        }
      ]
    },
    {
      "cell_type": "code",
      "metadata": {
        "id": "on_M-_nMLzTd",
        "colab_type": "code",
        "outputId": "0db4bd9a-3481-4150-fdf8-6dc1d5e16e1e",
        "colab": {
          "base_uri": "https://localhost:8080/",
          "height": 34
        }
      },
      "source": [
        "'''\n",
        "array with sequence of numbers \n",
        "'''\n",
        "seq = np.arange(5,12) # excluding 12\n",
        "seq"
      ],
      "execution_count": 0,
      "outputs": [
        {
          "output_type": "execute_result",
          "data": {
            "text/plain": [
              "array([ 5,  6,  7,  8,  9, 10, 11])"
            ]
          },
          "metadata": {
            "tags": []
          },
          "execution_count": 10
        }
      ]
    },
    {
      "cell_type": "code",
      "metadata": {
        "id": "NRsPEx0WMTMC",
        "colab_type": "code",
        "outputId": "e561df01-beda-4ae0-8406-b1e5d97f7ec7",
        "colab": {
          "base_uri": "https://localhost:8080/",
          "height": 34
        }
      },
      "source": [
        "'''\n",
        "populate matrices with random numbers acoss certain ranges \n",
        "\n",
        "we'll get random numbers array of size = size\n",
        "'''\n",
        "ran = np.random.randint(low = 1, high = 100, size = (5))\n",
        "ran"
      ],
      "execution_count": 0,
      "outputs": [
        {
          "output_type": "execute_result",
          "data": {
            "text/plain": [
              "array([71, 56, 13, 39, 40])"
            ]
          },
          "metadata": {
            "tags": []
          },
          "execution_count": 12
        }
      ]
    },
    {
      "cell_type": "code",
      "metadata": {
        "id": "mnC3w5eWM3rh",
        "colab_type": "code",
        "outputId": "352b4088-7fae-4f91-b44d-f4d094f8cac0",
        "colab": {
          "base_uri": "https://localhost:8080/",
          "height": 34
        }
      },
      "source": [
        "# floating point values\n",
        "\n",
        "ran_f = np.random.random([5])\n",
        "ran_f"
      ],
      "execution_count": 0,
      "outputs": [
        {
          "output_type": "execute_result",
          "data": {
            "text/plain": [
              "array([0.75903844, 0.69575902, 0.12979606, 0.8810911 , 0.63877664])"
            ]
          },
          "metadata": {
            "tags": []
          },
          "execution_count": 14
        }
      ]
    },
    {
      "cell_type": "markdown",
      "metadata": {
        "id": "vcKAmk7NNu9E",
        "colab_type": "text"
      },
      "source": [
        "## Mathematical Operations on NumPy Operands\n",
        "\n",
        "If you want to add or subtract two vectors or matrices, linear algebra requires that the two operands have the same dimensions. Furthermore, if you want to multiply two vectors or matrices, linear algebra imposes strict rules on the dimensional compatibility of operands. Fortunately, NumPy uses a trick called [**broadcasting**](https://developers.google.com/machine-learning/glossary/#broadcasting) to virtually expand the smaller operand to dimensions compatible for linear algebra. For example, the following operation uses broadcasting to add 2.0 to the value of every item in the vector created in the previous code cell:"
      ]
    },
    {
      "cell_type": "code",
      "metadata": {
        "id": "k2P3yCdHNeGX",
        "colab_type": "code",
        "outputId": "0e0247cf-3e5e-4dcb-975c-6acadd341997",
        "colab": {
          "base_uri": "https://localhost:8080/",
          "height": 34
        }
      },
      "source": [
        "ran_ = ran_f + 2.0 \n",
        "ran_"
      ],
      "execution_count": 0,
      "outputs": [
        {
          "output_type": "execute_result",
          "data": {
            "text/plain": [
              "array([2.75903844, 2.69575902, 2.12979606, 2.8810911 , 2.63877664])"
            ]
          },
          "metadata": {
            "tags": []
          },
          "execution_count": 15
        }
      ]
    },
    {
      "cell_type": "code",
      "metadata": {
        "id": "Re3HS5aDN3qQ",
        "colab_type": "code",
        "outputId": "3c9ee8f6-3a09-4642-e05a-1e58fb3c4647",
        "colab": {
          "base_uri": "https://localhost:8080/",
          "height": 34
        }
      },
      "source": [
        "# broadcasting to multiply\n",
        "\n",
        "ran__ = ran * 3\n",
        "ran__"
      ],
      "execution_count": 0,
      "outputs": [
        {
          "output_type": "execute_result",
          "data": {
            "text/plain": [
              "array([213, 168,  39, 117, 120])"
            ]
          },
          "metadata": {
            "tags": []
          },
          "execution_count": 16
        }
      ]
    },
    {
      "cell_type": "markdown",
      "metadata": {
        "id": "aPe3UI4KPb7z",
        "colab_type": "text"
      },
      "source": [
        "## Task 1: Create a Linear Dataset\n",
        "\n",
        "Your goal is to create a simple dataset consisting of a single feature and a label as follows:\n",
        "\n",
        "1. Assign a sequence of integers from 6 to 20 (inclusive) to a NumPy array named `feature`.\n",
        "2. Assign 15 values to a NumPy array named `label` such that:\n",
        "\n",
        "```\n",
        "   label = (3)(feature) + 4\n",
        "```\n",
        "For example, the first value for `label` should be:\n",
        "\n",
        "```\n",
        "  label = (3)(6) + 4 = 22\n",
        " ```\n",
        "\n",
        "_______________________________________\n",
        "\n",
        "mine:\n",
        "```\n",
        "feature = np.arange(6, 21) # write your code here\n",
        "print(feature)\n",
        "label = []   # write your code here\n",
        "for i in range(len(feature)):\n",
        "  label1 = (3*feature[i]) + 4\n",
        "  label.append(label1)\n",
        "\n",
        "print(label)\n",
        "```\n",
        "\n",
        "sol:\n",
        "\n",
        "```\n",
        "feature = np.arange(6, 21)\n",
        "print(feature)\n",
        "label = (feature * 3) + 4\n",
        "print(label)\n",
        "```"
      ]
    },
    {
      "cell_type": "markdown",
      "metadata": {
        "id": "2eHjAHQiPlOH",
        "colab_type": "text"
      },
      "source": [
        "\n"
      ]
    },
    {
      "cell_type": "code",
      "metadata": {
        "id": "dpfx5uFKRQZt",
        "colab_type": "code",
        "colab": {}
      },
      "source": [
        ""
      ],
      "execution_count": 0,
      "outputs": []
    },
    {
      "cell_type": "markdown",
      "metadata": {
        "id": "iQ_xqoSnRNSz",
        "colab_type": "text"
      },
      "source": [
        "## Task 2: Add Some Noise to the Dataset\n",
        "\n",
        "To make your dataset a little more realistic, insert a little random noise into each element of the `label` array you already created. To be more precise, modify each value assigned to `label` by adding a *different* random floating-point value between -2 and +2. \n",
        "\n",
        "Don't rely on broadcasting. Instead, create a `noise` array having the same dimension as `label`.\n",
        "\n",
        "\n",
        "______________________________________\n",
        "\n",
        "as we used the label var in previous task, we got to know  it has 15 elts in it, noise to be produced btw -2 and +2 and we need floating point values (np.random.random([x])). To produce floating point values we can provide only 1 argument, which is non negative\n",
        "for accquire the range btw - 2 and +2 we have code as below\n",
        "\n",
        "\n",
        "mine:\n",
        "```\n",
        "noise = np.random.random(15)*4 -2  # write your code here\n",
        "print(noise)\n",
        "label += noise     # write your code here\n",
        "print(label)\n",
        "```\n",
        "\n",
        "sol:\n",
        "```\n",
        "noise = (np.random.random([15]) * 4) - 2\n",
        "print(noise)\n",
        "label = label + noise \n",
        "print(label)\n",
        "```"
      ]
    },
    {
      "cell_type": "code",
      "metadata": {
        "id": "gp5Nx-ydOGDv",
        "colab_type": "code",
        "colab": {}
      },
      "source": [
        ""
      ],
      "execution_count": 0,
      "outputs": []
    }
  ]
}