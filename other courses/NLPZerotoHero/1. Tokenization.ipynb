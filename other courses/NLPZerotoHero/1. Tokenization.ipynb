{
  "nbformat": 4,
  "nbformat_minor": 0,
  "metadata": {
    "colab": {
      "name": "Tokenization.ipynb",
      "provenance": [],
      "authorship_tag": "ABX9TyOEsi3Kp6duhsaHokdS8Kzg",
      "include_colab_link": true
    },
    "kernelspec": {
      "name": "python3",
      "display_name": "Python 3"
    }
  },
  "cells": [
    {
      "cell_type": "markdown",
      "metadata": {
        "id": "view-in-github",
        "colab_type": "text"
      },
      "source": [
        "<a href=\"https://colab.research.google.com/github/AdicherlaVenkataSai/NLP-Zero-to-Hero/blob/master/1.%20Tokenization.ipynb\" target=\"_parent\"><img src=\"https://colab.research.google.com/assets/colab-badge.svg\" alt=\"Open In Colab\"/></a>"
      ]
    },
    {
      "cell_type": "markdown",
      "metadata": {
        "id": "ymHbTSHvDOOh",
        "colab_type": "text"
      },
      "source": [
        "#Tokenization"
      ]
    },
    {
      "cell_type": "code",
      "metadata": {
        "id": "vX4zf40nCr-_",
        "colab_type": "code",
        "colab": {}
      },
      "source": [
        "import tensorflow as tf\n",
        "from tensorflow import keras\n",
        "from tensorflow.keras.preprocessing.text import Tokenizer\n",
        "#Tokenizer is a api available with tensosflow\n"
      ],
      "execution_count": 0,
      "outputs": []
    },
    {
      "cell_type": "code",
      "metadata": {
        "id": "sacCQENUDl4I",
        "colab_type": "code",
        "colab": {}
      },
      "source": [
        "sentences = [\n",
        "             'i love my cat',\n",
        "             'i love my dog',\n",
        "             'you love my dog!'\n",
        "             ]"
      ],
      "execution_count": 0,
      "outputs": []
    },
    {
      "cell_type": "code",
      "metadata": {
        "id": "UCBnH-XSD3YM",
        "colab_type": "code",
        "colab": {
          "base_uri": "https://localhost:8080/",
          "height": 35
        },
        "outputId": "4f283ad7-0ec7-4550-fb02-e9bd7b1e9ba4"
      },
      "source": [
        "#creating an instance of Tokenizer\n",
        "tokenizer = Tokenizer(num_words=100)\n",
        "#num_words this store the most 100 frequent words\n",
        "tokenizer.fit_on_texts(sentences)\n",
        "#full list of words is available as the tokenizers word index property\n",
        "word_index = tokenizer.word_index\n",
        "word_index"
      ],
      "execution_count": 11,
      "outputs": [
        {
          "output_type": "execute_result",
          "data": {
            "text/plain": [
              "{'cat': 5, 'dog': 4, 'i': 3, 'love': 1, 'my': 2, 'you': 6}"
            ]
          },
          "metadata": {
            "tags": []
          },
          "execution_count": 11
        }
      ]
    },
    {
      "cell_type": "code",
      "metadata": {
        "id": "D0tt5vNHEqK2",
        "colab_type": "code",
        "colab": {
          "base_uri": "https://localhost:8080/",
          "height": 35
        },
        "outputId": "ba6491eb-d52a-4dc5-f5f5-47319d25bd6e"
      },
      "source": [
        "#tokenizer is also smart enough to catch some exceptions\n",
        "# if we update the sentence with\n",
        "word_index\n",
        "#for dog! it doesnt create a new token insteada assigns it to dog"
      ],
      "execution_count": 12,
      "outputs": [
        {
          "output_type": "execute_result",
          "data": {
            "text/plain": [
              "{'cat': 5, 'dog': 4, 'i': 3, 'love': 1, 'my': 2, 'you': 6}"
            ]
          },
          "metadata": {
            "tags": []
          },
          "execution_count": 12
        }
      ]
    }
  ]
}