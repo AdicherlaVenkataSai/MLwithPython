{
  "nbformat": 4,
  "nbformat_minor": 0,
  "metadata": {
    "colab": {
      "name": "Core learning Algorithms.ipynb",
      "provenance": [],
      "collapsed_sections": [],
      "authorship_tag": "ABX9TyOEjGS/D2wUUL9ZEoxkgdrS",
      "include_colab_link": true
    },
    "kernelspec": {
      "name": "python3",
      "display_name": "Python 3"
    }
  },
  "cells": [
    {
      "cell_type": "markdown",
      "metadata": {
        "id": "view-in-github",
        "colab_type": "text"
      },
      "source": [
        "<a href=\"https://colab.research.google.com/github/AdicherlaVenkataSai/TensorFlow/blob/master/Core_learning_Algorithms.ipynb\" target=\"_parent\"><img src=\"https://colab.research.google.com/assets/colab-badge.svg\" alt=\"Open In Colab\"/></a>"
      ]
    },
    {
      "cell_type": "markdown",
      "metadata": {
        "id": "p1fvsR9LVFXu",
        "colab_type": "text"
      },
      "source": [
        "# Tenosrflow Core learning Algorithms\n",
        "\n",
        "\n",
        "Machine learning algorithms\n",
        "\n",
        "\n",
        "*   Linear Regression\n",
        "*   Classification\n",
        "*   Clustering\n",
        "*   Hidden Markov Models\n",
        "\n",
        "\n",
        "\n",
        "\n",
        "\n"
      ]
    },
    {
      "cell_type": "markdown",
      "metadata": {
        "id": "7rzXT5oZV7F2",
        "colab_type": "text"
      },
      "source": [
        "# Linear Regression\n",
        "\n",
        "\n",
        "one of the  most basic forms of machine learning and is used to predict numeric values.\n"
      ]
    },
    {
      "cell_type": "markdown",
      "metadata": {
        "id": "fsB8jb3yV_iO",
        "colab_type": "text"
      },
      "source": [
        "#How it works\n",
        "\n",
        "concept: If data points are related linearly we can generate a line of best fit for these points and use it to predict future values.\n"
      ]
    },
    {
      "cell_type": "markdown",
      "metadata": {
        "id": "Wq59BRgFcBvn",
        "colab_type": "text"
      },
      "source": [
        "#Setup and Imports\n"
      ]
    },
    {
      "cell_type": "code",
      "metadata": {
        "id": "fPAK_U46cFw7",
        "colab_type": "code",
        "colab": {}
      },
      "source": [
        "!pip install -q sklearn"
      ],
      "execution_count": 0,
      "outputs": []
    },
    {
      "cell_type": "code",
      "metadata": {
        "id": "4rIkfBiGcgqO",
        "colab_type": "code",
        "colab": {}
      },
      "source": [
        "from __future__ import absolute_import, division, print_function, unicode_literals\n",
        "\n",
        "import numpy as np\n",
        "import pandas as pd\n",
        "import matplotlib.pyplot as plt\n",
        "from IPython.display import clear_output\n",
        "from six.moves import urllib\n",
        "\n",
        "import tensorflow.compat.v2.feature_column as fc\n",
        "\n",
        "import tensorflow as tf"
      ],
      "execution_count": 0,
      "outputs": []
    },
    {
      "cell_type": "code",
      "metadata": {
        "id": "2o5acqKA2DRH",
        "colab_type": "code",
        "colab": {}
      },
      "source": [
        ""
      ],
      "execution_count": 0,
      "outputs": []
    },
    {
      "cell_type": "markdown",
      "metadata": {
        "id": "5bJRMM5iVDwj",
        "colab_type": "text"
      },
      "source": [
        ""
      ]
    }
  ]
}