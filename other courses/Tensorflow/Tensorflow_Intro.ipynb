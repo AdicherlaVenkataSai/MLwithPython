{
  "nbformat": 4,
  "nbformat_minor": 0,
  "metadata": {
    "colab": {
      "name": "Tensorflow-Intro.ipynb",
      "provenance": [],
      "authorship_tag": "ABX9TyMYMQKFu5RPxE48zLBPmA/W",
      "include_colab_link": true
    },
    "kernelspec": {
      "name": "python3",
      "display_name": "Python 3"
    }
  },
  "cells": [
    {
      "cell_type": "markdown",
      "metadata": {
        "id": "view-in-github",
        "colab_type": "text"
      },
      "source": [
        "<a href=\"https://colab.research.google.com/github/AdicherlaVenkataSai/TensorFlow/blob/master/Tensorflow_Intro.ipynb\" target=\"_parent\"><img src=\"https://colab.research.google.com/assets/colab-badge.svg\" alt=\"Open In Colab\"/></a>"
      ]
    },
    {
      "cell_type": "markdown",
      "metadata": {
        "id": "siJVAbPsJQwr",
        "colab_type": "text"
      },
      "source": [
        "# Introduction\n",
        "\n",
        "**MODULE 1: OVERVIEW**\n",
        "\n",
        "**AI**: The effort to automate intellectual tasks normally performed by humans.\n",
        "(set of rules are assigned to perform the intellectual task)\n",
        "\n",
        "**ML**: input the data + provided with the output and make the machine(algorithm)\n",
        " to figure out the set of rules (raise the accuracy as high as possible)\n",
        "\n",
        "**Neural N**: A form of machine learning that uses a layered representation of data\n",
        "(multiple layers of information),not modeled after the brain \n",
        "\n",
        "\n",
        "\n",
        "**AI(ML(Neural N)))**\n",
        "\n",
        "\n",
        "**Types of M**L:\n",
        "\n",
        "1.Unsupervised learning: no lables, only features (clustering)\n",
        "\n",
        "2.Supervised learning: features+lables (most Ml alg uses)\n",
        "\n",
        "3.Reinforcement learning: no data,agent,environment (no knowledge of environment)\n",
        "                          training AI to play games\n",
        "\n",
        "\n",
        "\n",
        "\n",
        "\n",
        "**MODULE 2: GENERAL INTRO OF TENSAR FLOW**\n",
        "\n",
        "\n",
        "TF is a open source machine learning library ,(by google)\n",
        "\n",
        "**Things done by TF**:\n",
        "\n",
        "Image Classification\n",
        "\n",
        "Data Clustering\n",
        "\n",
        "Regression\n",
        "\n",
        "Reinforcement learning\n",
        "\n",
        "Natural language processing \n",
        "\n",
        "\n",
        "\n",
        "\n",
        "**how it works:**\n",
        "\n",
        "Graphs(partial commputations)\n",
        "\n",
        "Sessions "
      ]
    },
    {
      "cell_type": "code",
      "metadata": {
        "id": "HO-mGeR6pHDl",
        "colab_type": "code",
        "outputId": "41a8c1f1-2c09-42c0-9b95-d40c52091318",
        "colab": {
          "base_uri": "https://localhost:8080/",
          "height": 34
        }
      },
      "source": [
        " %tensorflow_version 2.x\n",
        " import tensorflow as tf\n",
        " print(tf.version)"
      ],
      "execution_count": 0,
      "outputs": [
        {
          "output_type": "stream",
          "text": [
            "<module 'tensorflow._api.v2.version' from '/usr/local/lib/python3.6/dist-packages/tensorflow/_api/v2/version/__init__.py'>\n"
          ],
          "name": "stdout"
        }
      ]
    },
    {
      "cell_type": "markdown",
      "metadata": {
        "id": "NmmvY1nGKxYe",
        "colab_type": "text"
      },
      "source": [
        ""
      ]
    },
    {
      "cell_type": "markdown",
      "metadata": {
        "id": "irfYy2PrpwMw",
        "colab_type": "text"
      },
      "source": [
        "# Creating Tensors\n",
        "\n",
        "examples\n",
        "\n"
      ]
    },
    {
      "cell_type": "markdown",
      "metadata": {
        "id": "AVEZErWQpRcc",
        "colab_type": "text"
      },
      "source": [
        "# Tensors\n",
        "A **vector**(data point) generalised to a higher dimensions. vector can be of any dimension 1d/2d/..\n",
        "\n",
        "Each tensor represents a partialy defined computation that will eventually produce a value, each tensor has a datapoint and shape ,tensorflow programs works by buliding a **graphs**\n",
        "\n",
        "A datatype is what kind of information is stored in the **tensors**\n",
        "\n",
        "The **shape** represents the dimension of data"
      ]
    },
    {
      "cell_type": "code",
      "metadata": {
        "id": "tdutRlbhqMOt",
        "colab_type": "code",
        "outputId": "ce374b74-c468-416e-9b2e-282260c02a6e",
        "colab": {
          "base_uri": "https://localhost:8080/",
          "height": 68
        }
      },
      "source": [
        "string = tf.Variable(\"this is a string\",tf.string)\n",
        "number = tf.Variable(124,tf.int16)\n",
        "floats = tf.Variable(4.567,tf.float16)\n",
        "\n",
        "print(string)\n",
        "print(number)\n",
        "print(floats)"
      ],
      "execution_count": 0,
      "outputs": [
        {
          "output_type": "stream",
          "text": [
            "<tf.Variable 'Variable:0' shape=() dtype=string, numpy=b'this is a string'>\n",
            "<tf.Variable 'Variable:0' shape=() dtype=int32, numpy=124>\n",
            "<tf.Variable 'Variable:0' shape=() dtype=float32, numpy=4.567>\n"
          ],
          "name": "stdout"
        }
      ]
    },
    {
      "cell_type": "markdown",
      "metadata": {
        "id": "GyqdO54vq-Ph",
        "colab_type": "text"
      },
      "source": [
        "# Rank/Degree of Tensors\n",
        "\n",
        "The number of dimensions involved in the tensor, above exapmles are **rank 0**, which mean **scalar** which has only one value\n",
        "\n",
        "tensor examples of higher degree\n",
        "\n",
        "here **tf.string** is the datatype of the tensors\n"
      ]
    },
    {
      "cell_type": "code",
      "metadata": {
        "id": "tkl3iboArobT",
        "colab_type": "code",
        "outputId": "8ac7f388-cb8b-4ecf-c2fe-d4371d2f6b36",
        "colab": {
          "base_uri": "https://localhost:8080/",
          "height": 85
        }
      },
      "source": [
        "rank1_tensor = tf.Variable([\"test\",\"hello\"],tf.string)\n",
        "rank2_tensor = tf.Variable([[\"test\", \"hello\"],[\"test1\",\"hello1\"]],tf.string)\n",
        "\n",
        "print(rank1_tensor)\n",
        "print(rank2_tensor)"
      ],
      "execution_count": 0,
      "outputs": [
        {
          "output_type": "stream",
          "text": [
            "<tf.Variable 'Variable:0' shape=(2,) dtype=string, numpy=array([b'test', b'hello'], dtype=object)>\n",
            "<tf.Variable 'Variable:0' shape=(2, 2) dtype=string, numpy=\n",
            "array([[b'test', b'hello'],\n",
            "       [b'test1', b'hello1']], dtype=object)>\n"
          ],
          "name": "stdout"
        }
      ]
    },
    {
      "cell_type": "markdown",
      "metadata": {
        "id": "8L-ePm1Js0Bh",
        "colab_type": "text"
      },
      "source": [
        "To determine the  **rank of a tensor** we can call the following method"
      ]
    },
    {
      "cell_type": "code",
      "metadata": {
        "id": "Wk8SjuH2tCuX",
        "colab_type": "code",
        "outputId": "2c61d8ae-b8ed-48b8-b32c-ac210bad1383",
        "colab": {
          "base_uri": "https://localhost:8080/",
          "height": 34
        }
      },
      "source": [
        "tf.rank(rank1_tensor)\n",
        "#tf.rank(rank2_tensor)\n"
      ],
      "execution_count": 0,
      "outputs": [
        {
          "output_type": "execute_result",
          "data": {
            "text/plain": [
              "<tf.Tensor: shape=(), dtype=int32, numpy=1>"
            ]
          },
          "metadata": {
            "tags": []
          },
          "execution_count": 9
        }
      ]
    },
    {
      "cell_type": "markdown",
      "metadata": {
        "id": "MrVOyw54tvFD",
        "colab_type": "text"
      },
      "source": [
        "# Shape of tensors\n",
        "\n",
        "The amount of elements that exist in each dimension(sometime the shape may be unknown)\n",
        "\n",
        "To know the shape\n"
      ]
    },
    {
      "cell_type": "code",
      "metadata": {
        "id": "9ZaFlAcgunFl",
        "colab_type": "code",
        "outputId": "f70cbb13-cb99-4903-a187-4ac739c1f681",
        "colab": {
          "base_uri": "https://localhost:8080/",
          "height": 34
        }
      },
      "source": [
        "rank2_tensor.shape"
      ],
      "execution_count": 0,
      "outputs": [
        {
          "output_type": "execute_result",
          "data": {
            "text/plain": [
              "TensorShape([2, 2])"
            ]
          },
          "metadata": {
            "tags": []
          },
          "execution_count": 10
        }
      ]
    },
    {
      "cell_type": "markdown",
      "metadata": {
        "id": "X4L3amWOuxNL",
        "colab_type": "text"
      },
      "source": [
        "# Changing shape \n",
        "\n",
        "The number of elements of a tensor is the product of the sizes of all its shape\n",
        "\n",
        "The examples below shows how to change the shape of the tensor\n"
      ]
    },
    {
      "cell_type": "code",
      "metadata": {
        "id": "flYaVpF-PjTO",
        "colab_type": "code",
        "colab": {}
      },
      "source": [
        "tensor1 = tf.ones([1,2,3]) # tf.ones() creates a shape [1,2,3] tensor full of ones \n",
        "print(tensor1)\n",
        "tensor2 = tf.reshape(tensor1,[2,3,1]) # reshape exixting data to shape [2.3,1]\n",
        "tensor3 = tf.reshape(tensor2, [3,2]) # -1 tells the tensor to cal the size of the dimension in that place, this will reshape the tensor to [3,2] \n",
        "print(tensor2) print(tensor3)"
      ],
      "execution_count": 0,
      "outputs": []
    },
    {
      "cell_type": "markdown",
      "metadata": {
        "id": "Z0ZhPxSbPvKf",
        "colab_type": "text"
      },
      "source": [
        "# Types of tensors\n",
        "\n",
        "\n",
        "\n",
        "*   Variable\n",
        "*   Constant\n",
        "*   Placeholder\n",
        "*   SparseTensor\n",
        "\n",
        "execpt variable all the others are mutable(value may change during the execution)\n",
        "\n",
        "\n",
        "\n",
        "\n",
        "\n",
        "\n"
      ]
    },
    {
      "cell_type": "markdown",
      "metadata": {
        "id": "WXf_QCUZQ65o",
        "colab_type": "text"
      },
      "source": [
        "# Evaluating the tensors\n",
        "\n",
        "\n",
        "Tensors represent a partially complete computation we will sometimes need to run whats called a session to evaluate the tensor\n"
      ]
    },
    {
      "cell_type": "code",
      "metadata": {
        "id": "FDup-goBRzfJ",
        "colab_type": "code",
        "colab": {}
      },
      "source": [
        "with tf.Session() as sess: # creates a session using the default graph\n",
        "tensor.eval() # tensor will of course be the name of your tensor"
      ],
      "execution_count": 0,
      "outputs": []
    }
  ]
}